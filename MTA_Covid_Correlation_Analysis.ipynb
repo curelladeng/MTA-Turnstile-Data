{
 "cells": [
  {
   "cell_type": "code",
   "execution_count": 1,
   "metadata": {},
   "outputs": [],
   "source": [
    "import numpy as np\n",
    "import pandas as pd\n",
    "import seaborn as sns\n",
    "import matplotlib.pyplot as plt\n",
    "from sqlalchemy import create_engine\n",
    "\n",
    "%matplotlib inline"
   ]
  },
  {
   "cell_type": "code",
   "execution_count": 2,
   "metadata": {},
   "outputs": [],
   "source": [
    "#Connect Python to a DB\n",
    "engine = create_engine(\"sqlite:///mta.db\")"
   ]
  },
  {
   "cell_type": "code",
   "execution_count": 3,
   "metadata": {},
   "outputs": [
    {
     "data": {
      "text/plain": [
       "['df_covid',\n",
       " 'df_mta_cleaned',\n",
       " 'df_mta_cleaned1',\n",
       " 'df_mta_cleaned3',\n",
       " 'df_stations_mapping',\n",
       " 'mta_data']"
      ]
     },
     "execution_count": 3,
     "metadata": {},
     "output_type": "execute_result"
    }
   ],
   "source": [
    "all_tables = engine.table_names()\n",
    "all_tables"
   ]
  },
  {
   "cell_type": "code",
   "execution_count": 4,
   "metadata": {},
   "outputs": [],
   "source": [
    "#Import the MTA data and only inculde 12am data points to calculate to daily entries;\n",
    "df_mta = pd.read_sql('''\n",
    "                      SELECT *\n",
    "                      FROM\n",
    "                        (SELECT CA\n",
    "                              ,UNIT AS unit\n",
    "                              ,SCP\n",
    "                              ,STATION AS station\n",
    "                              ,LINENAME AS linename\n",
    "                              ,DIVISION AS division\n",
    "                              ,date(substr(DATE,7,7) ||'-'||substr(DATE,1,2)||'-'||substr(DATE,4,2)) AS date\n",
    "                              ,DESC AS desc\n",
    "                              ,CAST(ENTRIES AS INT) AS entries\n",
    "                              ,CAST(EXITS AS INT) AS exits\n",
    "                          FROM mta_data \n",
    "                          WHERE TIME = \"00:00:00\")\n",
    "                       WHERE date between \"2020-03-01\" and \"2020-12-31\"\n",
    "                     ''', engine)"
   ]
  },
  {
   "cell_type": "code",
   "execution_count": 5,
   "metadata": {},
   "outputs": [
    {
     "data": {
      "text/html": [
       "<div>\n",
       "<style scoped>\n",
       "    .dataframe tbody tr th:only-of-type {\n",
       "        vertical-align: middle;\n",
       "    }\n",
       "\n",
       "    .dataframe tbody tr th {\n",
       "        vertical-align: top;\n",
       "    }\n",
       "\n",
       "    .dataframe thead th {\n",
       "        text-align: right;\n",
       "    }\n",
       "</style>\n",
       "<table border=\"1\" class=\"dataframe\">\n",
       "  <thead>\n",
       "    <tr style=\"text-align: right;\">\n",
       "      <th></th>\n",
       "      <th>CA</th>\n",
       "      <th>unit</th>\n",
       "      <th>SCP</th>\n",
       "      <th>station</th>\n",
       "      <th>linename</th>\n",
       "      <th>division</th>\n",
       "      <th>date</th>\n",
       "      <th>desc</th>\n",
       "      <th>entries</th>\n",
       "      <th>exits</th>\n",
       "    </tr>\n",
       "  </thead>\n",
       "  <tbody>\n",
       "    <tr>\n",
       "      <th>0</th>\n",
       "      <td>A033</td>\n",
       "      <td>R170</td>\n",
       "      <td>02-00-00</td>\n",
       "      <td>14 ST-UNION SQ</td>\n",
       "      <td>LNQR456W</td>\n",
       "      <td>BMT</td>\n",
       "      <td>2020-03-01</td>\n",
       "      <td>REGULAR</td>\n",
       "      <td>326919</td>\n",
       "      <td>995477</td>\n",
       "    </tr>\n",
       "    <tr>\n",
       "      <th>1</th>\n",
       "      <td>A033</td>\n",
       "      <td>R170</td>\n",
       "      <td>02-00-00</td>\n",
       "      <td>14 ST-UNION SQ</td>\n",
       "      <td>LNQR456W</td>\n",
       "      <td>BMT</td>\n",
       "      <td>2020-03-02</td>\n",
       "      <td>REGULAR</td>\n",
       "      <td>327136</td>\n",
       "      <td>996201</td>\n",
       "    </tr>\n",
       "    <tr>\n",
       "      <th>2</th>\n",
       "      <td>A033</td>\n",
       "      <td>R170</td>\n",
       "      <td>02-00-00</td>\n",
       "      <td>14 ST-UNION SQ</td>\n",
       "      <td>LNQR456W</td>\n",
       "      <td>BMT</td>\n",
       "      <td>2020-03-03</td>\n",
       "      <td>REGULAR</td>\n",
       "      <td>328115</td>\n",
       "      <td>999054</td>\n",
       "    </tr>\n",
       "    <tr>\n",
       "      <th>3</th>\n",
       "      <td>A033</td>\n",
       "      <td>R170</td>\n",
       "      <td>02-00-00</td>\n",
       "      <td>14 ST-UNION SQ</td>\n",
       "      <td>LNQR456W</td>\n",
       "      <td>BMT</td>\n",
       "      <td>2020-03-04</td>\n",
       "      <td>REGULAR</td>\n",
       "      <td>329220</td>\n",
       "      <td>1002104</td>\n",
       "    </tr>\n",
       "    <tr>\n",
       "      <th>4</th>\n",
       "      <td>A033</td>\n",
       "      <td>R170</td>\n",
       "      <td>02-00-00</td>\n",
       "      <td>14 ST-UNION SQ</td>\n",
       "      <td>LNQR456W</td>\n",
       "      <td>BMT</td>\n",
       "      <td>2020-03-05</td>\n",
       "      <td>REGULAR</td>\n",
       "      <td>330246</td>\n",
       "      <td>1005296</td>\n",
       "    </tr>\n",
       "  </tbody>\n",
       "</table>\n",
       "</div>"
      ],
      "text/plain": [
       "     CA  unit       SCP         station  linename division        date  \\\n",
       "0  A033  R170  02-00-00  14 ST-UNION SQ  LNQR456W      BMT  2020-03-01   \n",
       "1  A033  R170  02-00-00  14 ST-UNION SQ  LNQR456W      BMT  2020-03-02   \n",
       "2  A033  R170  02-00-00  14 ST-UNION SQ  LNQR456W      BMT  2020-03-03   \n",
       "3  A033  R170  02-00-00  14 ST-UNION SQ  LNQR456W      BMT  2020-03-04   \n",
       "4  A033  R170  02-00-00  14 ST-UNION SQ  LNQR456W      BMT  2020-03-05   \n",
       "\n",
       "      desc  entries    exits  \n",
       "0  REGULAR   326919   995477  \n",
       "1  REGULAR   327136   996201  \n",
       "2  REGULAR   328115   999054  \n",
       "3  REGULAR   329220  1002104  \n",
       "4  REGULAR   330246  1005296  "
      ]
     },
     "execution_count": 5,
     "metadata": {},
     "output_type": "execute_result"
    }
   ],
   "source": [
    "df_mta.head()"
   ]
  },
  {
   "cell_type": "markdown",
   "metadata": {},
   "source": [
    "### Data Wrangling"
   ]
  },
  {
   "cell_type": "code",
   "execution_count": 6,
   "metadata": {},
   "outputs": [],
   "source": [
    "df_mta.sort_values([\"CA\",\"unit\",\"SCP\",\"station\", \"date\"],\n",
    "                  inplace = True, ascending = False)"
   ]
  },
  {
   "cell_type": "code",
   "execution_count": 7,
   "metadata": {},
   "outputs": [],
   "source": [
    "#Remove dupicated rows because those are Recovr Aud records\n",
    "df_mta.drop_duplicates(subset=[\"CA\",\"unit\",\"SCP\",\"station\", \"date\"], inplace = True)"
   ]
  },
  {
   "cell_type": "code",
   "execution_count": 8,
   "metadata": {},
   "outputs": [
    {
     "name": "stdout",
     "output_type": "stream",
     "text": [
      "<class 'pandas.core.frame.DataFrame'>\n",
      "Int64Index: 726156 entries, 726166 to 11098\n",
      "Data columns (total 10 columns):\n",
      " #   Column    Non-Null Count   Dtype \n",
      "---  ------    --------------   ----- \n",
      " 0   CA        726156 non-null  object\n",
      " 1   unit      726156 non-null  object\n",
      " 2   SCP       726156 non-null  object\n",
      " 3   station   726156 non-null  object\n",
      " 4   linename  726156 non-null  object\n",
      " 5   division  726156 non-null  object\n",
      " 6   date      726156 non-null  object\n",
      " 7   desc      726156 non-null  object\n",
      " 8   entries   726156 non-null  int64 \n",
      " 9   exits     726156 non-null  int64 \n",
      "dtypes: int64(2), object(8)\n",
      "memory usage: 60.9+ MB\n"
     ]
    }
   ],
   "source": [
    "df_mta.info()"
   ]
  },
  {
   "cell_type": "code",
   "execution_count": 9,
   "metadata": {},
   "outputs": [
    {
     "name": "stderr",
     "output_type": "stream",
     "text": [
      "<ipython-input-9-e24b04766428>:2: FutureWarning: Indexing with multiple keys (implicitly converted to a tuple of keys) will be deprecated, use a list instead.\n",
      "  df_mta[[\"date_next\", \"entries_next\"]] = df_mta.groupby([\"CA\",\"unit\",\"SCP\",\"station\"])[\"date\",\"entries\"].shift(1)\n"
     ]
    }
   ],
   "source": [
    "#Calculate the daily entries by using each day's entries to minus the previous date\n",
    "df_mta[[\"date_next\", \"entries_next\"]] = df_mta.groupby([\"CA\",\"unit\",\"SCP\",\"station\"])[\"date\",\"entries\"].shift(1)\n"
   ]
  },
  {
   "cell_type": "code",
   "execution_count": 10,
   "metadata": {},
   "outputs": [],
   "source": [
    "def get_daily_counts(df, max_counter = 1500000):\n",
    "    counter = df[\"entries_next\"] - df[\"entries\"]\n",
    "    if counter < 0:\n",
    "        counter = -counter\n",
    "    if counter > max_counter:\n",
    "        return 0\n",
    "    return counter"
   ]
  },
  {
   "cell_type": "code",
   "execution_count": 11,
   "metadata": {},
   "outputs": [],
   "source": [
    "df_mta[\"daily_entries\"] = df_mta.apply(get_daily_counts, axis = 1)"
   ]
  },
  {
   "cell_type": "code",
   "execution_count": 12,
   "metadata": {},
   "outputs": [
    {
     "data": {
      "text/html": [
       "<div>\n",
       "<style scoped>\n",
       "    .dataframe tbody tr th:only-of-type {\n",
       "        vertical-align: middle;\n",
       "    }\n",
       "\n",
       "    .dataframe tbody tr th {\n",
       "        vertical-align: top;\n",
       "    }\n",
       "\n",
       "    .dataframe thead th {\n",
       "        text-align: right;\n",
       "    }\n",
       "</style>\n",
       "<table border=\"1\" class=\"dataframe\">\n",
       "  <thead>\n",
       "    <tr style=\"text-align: right;\">\n",
       "      <th></th>\n",
       "      <th>CA</th>\n",
       "      <th>unit</th>\n",
       "      <th>SCP</th>\n",
       "      <th>station</th>\n",
       "      <th>linename</th>\n",
       "      <th>division</th>\n",
       "      <th>date</th>\n",
       "      <th>desc</th>\n",
       "      <th>entries</th>\n",
       "      <th>exits</th>\n",
       "      <th>date_next</th>\n",
       "      <th>entries_next</th>\n",
       "      <th>daily_entries</th>\n",
       "    </tr>\n",
       "  </thead>\n",
       "  <tbody>\n",
       "    <tr>\n",
       "      <th>726166</th>\n",
       "      <td>TRAM2</td>\n",
       "      <td>R469</td>\n",
       "      <td>00-05-01</td>\n",
       "      <td>RIT-ROOSEVELT</td>\n",
       "      <td>R</td>\n",
       "      <td>RIT</td>\n",
       "      <td>2020-12-31</td>\n",
       "      <td>REGULAR</td>\n",
       "      <td>5554</td>\n",
       "      <td>541</td>\n",
       "      <td>NaN</td>\n",
       "      <td>NaN</td>\n",
       "      <td>NaN</td>\n",
       "    </tr>\n",
       "    <tr>\n",
       "      <th>726165</th>\n",
       "      <td>TRAM2</td>\n",
       "      <td>R469</td>\n",
       "      <td>00-05-01</td>\n",
       "      <td>RIT-ROOSEVELT</td>\n",
       "      <td>R</td>\n",
       "      <td>RIT</td>\n",
       "      <td>2020-12-30</td>\n",
       "      <td>REGULAR</td>\n",
       "      <td>5554</td>\n",
       "      <td>541</td>\n",
       "      <td>2020-12-31</td>\n",
       "      <td>5554.0</td>\n",
       "      <td>0.0</td>\n",
       "    </tr>\n",
       "    <tr>\n",
       "      <th>726164</th>\n",
       "      <td>TRAM2</td>\n",
       "      <td>R469</td>\n",
       "      <td>00-05-01</td>\n",
       "      <td>RIT-ROOSEVELT</td>\n",
       "      <td>R</td>\n",
       "      <td>RIT</td>\n",
       "      <td>2020-12-29</td>\n",
       "      <td>REGULAR</td>\n",
       "      <td>5554</td>\n",
       "      <td>541</td>\n",
       "      <td>2020-12-30</td>\n",
       "      <td>5554.0</td>\n",
       "      <td>0.0</td>\n",
       "    </tr>\n",
       "    <tr>\n",
       "      <th>726163</th>\n",
       "      <td>TRAM2</td>\n",
       "      <td>R469</td>\n",
       "      <td>00-05-01</td>\n",
       "      <td>RIT-ROOSEVELT</td>\n",
       "      <td>R</td>\n",
       "      <td>RIT</td>\n",
       "      <td>2020-12-28</td>\n",
       "      <td>REGULAR</td>\n",
       "      <td>5554</td>\n",
       "      <td>541</td>\n",
       "      <td>2020-12-29</td>\n",
       "      <td>5554.0</td>\n",
       "      <td>0.0</td>\n",
       "    </tr>\n",
       "    <tr>\n",
       "      <th>726162</th>\n",
       "      <td>TRAM2</td>\n",
       "      <td>R469</td>\n",
       "      <td>00-05-01</td>\n",
       "      <td>RIT-ROOSEVELT</td>\n",
       "      <td>R</td>\n",
       "      <td>RIT</td>\n",
       "      <td>2020-12-27</td>\n",
       "      <td>REGULAR</td>\n",
       "      <td>5554</td>\n",
       "      <td>541</td>\n",
       "      <td>2020-12-28</td>\n",
       "      <td>5554.0</td>\n",
       "      <td>0.0</td>\n",
       "    </tr>\n",
       "  </tbody>\n",
       "</table>\n",
       "</div>"
      ],
      "text/plain": [
       "           CA  unit       SCP        station linename division        date  \\\n",
       "726166  TRAM2  R469  00-05-01  RIT-ROOSEVELT        R      RIT  2020-12-31   \n",
       "726165  TRAM2  R469  00-05-01  RIT-ROOSEVELT        R      RIT  2020-12-30   \n",
       "726164  TRAM2  R469  00-05-01  RIT-ROOSEVELT        R      RIT  2020-12-29   \n",
       "726163  TRAM2  R469  00-05-01  RIT-ROOSEVELT        R      RIT  2020-12-28   \n",
       "726162  TRAM2  R469  00-05-01  RIT-ROOSEVELT        R      RIT  2020-12-27   \n",
       "\n",
       "           desc  entries  exits   date_next  entries_next  daily_entries  \n",
       "726166  REGULAR     5554    541         NaN           NaN            NaN  \n",
       "726165  REGULAR     5554    541  2020-12-31        5554.0            0.0  \n",
       "726164  REGULAR     5554    541  2020-12-30        5554.0            0.0  \n",
       "726163  REGULAR     5554    541  2020-12-29        5554.0            0.0  \n",
       "726162  REGULAR     5554    541  2020-12-28        5554.0            0.0  "
      ]
     },
     "execution_count": 12,
     "metadata": {},
     "output_type": "execute_result"
    }
   ],
   "source": [
    "df_mta.head()"
   ]
  },
  {
   "cell_type": "code",
   "execution_count": 13,
   "metadata": {},
   "outputs": [],
   "source": [
    "from datetime import datetime, timedelta"
   ]
  },
  {
   "cell_type": "code",
   "execution_count": 14,
   "metadata": {},
   "outputs": [],
   "source": [
    "df_mta['date'] = pd.to_datetime(df_mta['date'], format='%Y-%m-%d')\n",
    "\n",
    "#week begins on Monday\n",
    "df_mta['week_begin'] = df_mta['date'] - pd.to_timedelta(df_mta['date'].dt.dayofweek, unit='d')\n"
   ]
  },
  {
   "cell_type": "code",
   "execution_count": null,
   "metadata": {},
   "outputs": [],
   "source": [
    "#Upload the cleaned mta data into mta.db for SQl practice\n",
    "#df_mta.to_sql(\"df_mta_cleaned\", engine, index = False) "
   ]
  },
  {
   "cell_type": "code",
   "execution_count": 15,
   "metadata": {},
   "outputs": [
    {
     "name": "stdout",
     "output_type": "stream",
     "text": [
      "<class 'pandas.core.frame.DataFrame'>\n",
      "Int64Index: 726156 entries, 726166 to 11098\n",
      "Data columns (total 14 columns):\n",
      " #   Column         Non-Null Count   Dtype         \n",
      "---  ------         --------------   -----         \n",
      " 0   CA             726156 non-null  object        \n",
      " 1   unit           726156 non-null  object        \n",
      " 2   SCP            726156 non-null  object        \n",
      " 3   station        726156 non-null  object        \n",
      " 4   linename       726156 non-null  object        \n",
      " 5   division       726156 non-null  object        \n",
      " 6   date           726156 non-null  datetime64[ns]\n",
      " 7   desc           726156 non-null  object        \n",
      " 8   entries        726156 non-null  int64         \n",
      " 9   exits          726156 non-null  int64         \n",
      " 10  date_next      721682 non-null  object        \n",
      " 11  entries_next   721682 non-null  float64       \n",
      " 12  daily_entries  721682 non-null  float64       \n",
      " 13  week_begin     726156 non-null  datetime64[ns]\n",
      "dtypes: datetime64[ns](2), float64(2), int64(2), object(8)\n",
      "memory usage: 83.1+ MB\n"
     ]
    }
   ],
   "source": [
    "df_mta.info()"
   ]
  },
  {
   "cell_type": "code",
   "execution_count": 16,
   "metadata": {},
   "outputs": [
    {
     "data": {
      "text/html": [
       "<div>\n",
       "<style scoped>\n",
       "    .dataframe tbody tr th:only-of-type {\n",
       "        vertical-align: middle;\n",
       "    }\n",
       "\n",
       "    .dataframe tbody tr th {\n",
       "        vertical-align: top;\n",
       "    }\n",
       "\n",
       "    .dataframe thead th {\n",
       "        text-align: right;\n",
       "    }\n",
       "</style>\n",
       "<table border=\"1\" class=\"dataframe\">\n",
       "  <thead>\n",
       "    <tr style=\"text-align: right;\">\n",
       "      <th></th>\n",
       "      <th>remote</th>\n",
       "      <th>booth</th>\n",
       "      <th>complex_id</th>\n",
       "      <th>station</th>\n",
       "      <th>line_name</th>\n",
       "      <th>division</th>\n",
       "      <th>Borough</th>\n",
       "    </tr>\n",
       "  </thead>\n",
       "  <tbody>\n",
       "    <tr>\n",
       "      <th>0</th>\n",
       "      <td>R001</td>\n",
       "      <td>A060</td>\n",
       "      <td>635.0</td>\n",
       "      <td>WHITEHALL ST</td>\n",
       "      <td>R1</td>\n",
       "      <td>BMT</td>\n",
       "      <td>M</td>\n",
       "    </tr>\n",
       "    <tr>\n",
       "      <th>1</th>\n",
       "      <td>R001</td>\n",
       "      <td>A058</td>\n",
       "      <td>635.0</td>\n",
       "      <td>WHITEHALL ST</td>\n",
       "      <td>R1</td>\n",
       "      <td>BMT</td>\n",
       "      <td>M</td>\n",
       "    </tr>\n",
       "    <tr>\n",
       "      <th>2</th>\n",
       "      <td>R001</td>\n",
       "      <td>R101S</td>\n",
       "      <td>635.0</td>\n",
       "      <td>SOUTH FERRY</td>\n",
       "      <td>R1</td>\n",
       "      <td>IRT</td>\n",
       "      <td>M</td>\n",
       "    </tr>\n",
       "    <tr>\n",
       "      <th>3</th>\n",
       "      <td>R002</td>\n",
       "      <td>A077</td>\n",
       "      <td>628.0</td>\n",
       "      <td>FULTON ST</td>\n",
       "      <td>ACJZ2345</td>\n",
       "      <td>BMT</td>\n",
       "      <td>M</td>\n",
       "    </tr>\n",
       "    <tr>\n",
       "      <th>4</th>\n",
       "      <td>R002</td>\n",
       "      <td>A081</td>\n",
       "      <td>628.0</td>\n",
       "      <td>FULTON ST</td>\n",
       "      <td>ACJZ2345</td>\n",
       "      <td>BMT</td>\n",
       "      <td>M</td>\n",
       "    </tr>\n",
       "  </tbody>\n",
       "</table>\n",
       "</div>"
      ],
      "text/plain": [
       "  remote  booth  complex_id       station line_name division Borough\n",
       "0   R001   A060       635.0  WHITEHALL ST        R1      BMT       M\n",
       "1   R001   A058       635.0  WHITEHALL ST        R1      BMT       M\n",
       "2   R001  R101S       635.0   SOUTH FERRY        R1      IRT       M\n",
       "3   R002   A077       628.0     FULTON ST  ACJZ2345      BMT       M\n",
       "4   R002   A081       628.0     FULTON ST  ACJZ2345      BMT       M"
      ]
     },
     "execution_count": 16,
     "metadata": {},
     "output_type": "execute_result"
    }
   ],
   "source": [
    "#import the remote_complex_lookup.csv to map turnstiles to borough\n",
    "df_stations_mapping = pd.read_csv(\"remote_complex_lookup.csv\")\n",
    "df_stations_mapping.head()"
   ]
  },
  {
   "cell_type": "code",
   "execution_count": null,
   "metadata": {},
   "outputs": [],
   "source": [
    "#df_stations_mapping.to_sql(\"df_stations_mapping\", engine, index = False)"
   ]
  },
  {
   "cell_type": "code",
   "execution_count": 17,
   "metadata": {},
   "outputs": [],
   "source": [
    "#Create the master dataset to map each turnstile into a borough\n",
    "df_mta_master = pd.read_sql('''\n",
    "                      select a.*\n",
    "                            ,lower(b.Borough) as borough\n",
    "                      from df_mta_cleaned3 a LEFT join\n",
    "                      (select remote,Borough\n",
    "                      from df_stations_mapping\n",
    "                      group by 1,2) b\n",
    "                      on a.unit = b.remote\n",
    "                      WHERE a.daily_entries > 0;\n",
    "                      ''',engine)"
   ]
  },
  {
   "cell_type": "code",
   "execution_count": 24,
   "metadata": {},
   "outputs": [
    {
     "data": {
      "text/plain": [
       "array(['RIT-ROOSEVELT', 'RIT-MANHATTAN', 'CITY / BUS', 'EXCHANGE PLACE',\n",
       "       'ORCHARD BEACH', 'JFK JAMAICA CT1', 'HOWARD BCH JFK'], dtype=object)"
      ]
     },
     "execution_count": 24,
     "metadata": {},
     "output_type": "execute_result"
    }
   ],
   "source": [
    "df_mta_master[df_mta_master.borough.isna()][\"station\"].unique()"
   ]
  },
  {
   "cell_type": "code",
   "execution_count": 25,
   "metadata": {},
   "outputs": [],
   "source": [
    "df_mta_master['date'] = pd.to_datetime(df_mta_master['date'], format='%Y-%m-%d')\n",
    "df_mta_master['week_begin'] = pd.to_datetime(df_mta_master['week_begin'], format='%Y-%m-%d')\n",
    "df_mta_master[\"year_month\"] = df_mta_master[\"date\"].dt.strftime('%Y-%m')"
   ]
  },
  {
   "cell_type": "code",
   "execution_count": 27,
   "metadata": {},
   "outputs": [
    {
     "name": "stdout",
     "output_type": "stream",
     "text": [
      "<class 'pandas.core.frame.DataFrame'>\n",
      "RangeIndex: 638662 entries, 0 to 638661\n",
      "Data columns (total 16 columns):\n",
      " #   Column         Non-Null Count   Dtype         \n",
      "---  ------         --------------   -----         \n",
      " 0   CA             638662 non-null  object        \n",
      " 1   unit           638662 non-null  object        \n",
      " 2   SCP            638662 non-null  object        \n",
      " 3   station        638662 non-null  object        \n",
      " 4   linename       638662 non-null  object        \n",
      " 5   division       638662 non-null  object        \n",
      " 6   date           638662 non-null  datetime64[ns]\n",
      " 7   desc           638662 non-null  object        \n",
      " 8   entries        638662 non-null  int64         \n",
      " 9   exits          638662 non-null  int64         \n",
      " 10  date_next      638662 non-null  object        \n",
      " 11  entries_next   638662 non-null  float64       \n",
      " 12  daily_entries  638662 non-null  float64       \n",
      " 13  week_begin     638662 non-null  datetime64[ns]\n",
      " 14  borough        637450 non-null  object        \n",
      " 15  year_month     638662 non-null  object        \n",
      "dtypes: datetime64[ns](2), float64(2), int64(2), object(10)\n",
      "memory usage: 78.0+ MB\n"
     ]
    }
   ],
   "source": [
    "df_mta_master.info()"
   ]
  },
  {
   "cell_type": "code",
   "execution_count": 28,
   "metadata": {},
   "outputs": [
    {
     "data": {
      "text/html": [
       "<div>\n",
       "<style scoped>\n",
       "    .dataframe tbody tr th:only-of-type {\n",
       "        vertical-align: middle;\n",
       "    }\n",
       "\n",
       "    .dataframe tbody tr th {\n",
       "        vertical-align: top;\n",
       "    }\n",
       "\n",
       "    .dataframe thead th {\n",
       "        text-align: right;\n",
       "    }\n",
       "</style>\n",
       "<table border=\"1\" class=\"dataframe\">\n",
       "  <thead>\n",
       "    <tr style=\"text-align: right;\">\n",
       "      <th></th>\n",
       "      <th>entries</th>\n",
       "      <th>exits</th>\n",
       "      <th>entries_next</th>\n",
       "      <th>daily_entries</th>\n",
       "    </tr>\n",
       "  </thead>\n",
       "  <tbody>\n",
       "    <tr>\n",
       "      <th>count</th>\n",
       "      <td>638662</td>\n",
       "      <td>638662</td>\n",
       "      <td>638662</td>\n",
       "      <td>638662</td>\n",
       "    </tr>\n",
       "    <tr>\n",
       "      <th>mean</th>\n",
       "      <td>47968947</td>\n",
       "      <td>41244841</td>\n",
       "      <td>47969275</td>\n",
       "      <td>565</td>\n",
       "    </tr>\n",
       "    <tr>\n",
       "      <th>std</th>\n",
       "      <td>235235087</td>\n",
       "      <td>218742446</td>\n",
       "      <td>235235060</td>\n",
       "      <td>11227</td>\n",
       "    </tr>\n",
       "    <tr>\n",
       "      <th>min</th>\n",
       "      <td>0</td>\n",
       "      <td>0</td>\n",
       "      <td>0</td>\n",
       "      <td>1</td>\n",
       "    </tr>\n",
       "    <tr>\n",
       "      <th>25%</th>\n",
       "      <td>679013</td>\n",
       "      <td>384492</td>\n",
       "      <td>679102</td>\n",
       "      <td>70</td>\n",
       "    </tr>\n",
       "    <tr>\n",
       "      <th>50%</th>\n",
       "      <td>2940892</td>\n",
       "      <td>1722459</td>\n",
       "      <td>2941087</td>\n",
       "      <td>177</td>\n",
       "    </tr>\n",
       "    <tr>\n",
       "      <th>75%</th>\n",
       "      <td>7661543</td>\n",
       "      <td>5546913</td>\n",
       "      <td>7662307</td>\n",
       "      <td>383</td>\n",
       "    </tr>\n",
       "    <tr>\n",
       "      <th>max</th>\n",
       "      <td>2128785460</td>\n",
       "      <td>2123349140</td>\n",
       "      <td>2128784828</td>\n",
       "      <td>1483136</td>\n",
       "    </tr>\n",
       "  </tbody>\n",
       "</table>\n",
       "</div>"
      ],
      "text/plain": [
       "          entries       exits  entries_next  daily_entries\n",
       "count      638662      638662        638662         638662\n",
       "mean     47968947    41244841      47969275            565\n",
       "std     235235087   218742446     235235060          11227\n",
       "min             0           0             0              1\n",
       "25%        679013      384492        679102             70\n",
       "50%       2940892     1722459       2941087            177\n",
       "75%       7661543     5546913       7662307            383\n",
       "max    2128785460  2123349140    2128784828        1483136"
      ]
     },
     "execution_count": 28,
     "metadata": {},
     "output_type": "execute_result"
    }
   ],
   "source": [
    "df_mta_master.describe().astype(int)"
   ]
  },
  {
   "cell_type": "markdown",
   "metadata": {},
   "source": [
    "### Data Visualization"
   ]
  },
  {
   "cell_type": "code",
   "execution_count": 31,
   "metadata": {},
   "outputs": [],
   "source": [
    "# Visualize the median of daily entries to obsevve the patterns of this metric\n",
    "tmp1 = df_mta_master.groupby(\"date\")[\"daily_entries\"].median().reset_index()"
   ]
  },
  {
   "cell_type": "code",
   "execution_count": 32,
   "metadata": {},
   "outputs": [
    {
     "data": {
      "text/plain": [
       "[<matplotlib.lines.Line2D at 0x7fd488ea35b0>]"
      ]
     },
     "execution_count": 32,
     "metadata": {},
     "output_type": "execute_result"
    },
    {
     "data": {
      "image/png": "[encoded data removed]",
      "text/plain": [
       "<Figure size 1080x360 with 1 Axes>"
      ]
     },
     "metadata": {
      "needs_background": "light"
     },
     "output_type": "display_data"
    }
   ],
   "source": [
    "plt.figure(figsize = (15,5))\n",
    "plt.plot(tmp1.date, tmp1.daily_entries)"
   ]
  },
  {
   "cell_type": "markdown",
   "metadata": {},
   "source": [
    "#### March data is significantly higher than other months, let's take a further look."
   ]
  },
  {
   "cell_type": "code",
   "execution_count": 33,
   "metadata": {},
   "outputs": [
    {
     "data": {
      "text/html": [
       "<div>\n",
       "<style scoped>\n",
       "    .dataframe tbody tr th:only-of-type {\n",
       "        vertical-align: middle;\n",
       "    }\n",
       "\n",
       "    .dataframe tbody tr th {\n",
       "        vertical-align: top;\n",
       "    }\n",
       "\n",
       "    .dataframe thead th {\n",
       "        text-align: right;\n",
       "    }\n",
       "</style>\n",
       "<table border=\"1\" class=\"dataframe\">\n",
       "  <thead>\n",
       "    <tr style=\"text-align: right;\">\n",
       "      <th></th>\n",
       "      <th>date</th>\n",
       "      <th>daily_entries</th>\n",
       "    </tr>\n",
       "  </thead>\n",
       "  <tbody>\n",
       "    <tr>\n",
       "      <th>7</th>\n",
       "      <td>2020-03-08</td>\n",
       "      <td>43199.5</td>\n",
       "    </tr>\n",
       "    <tr>\n",
       "      <th>2</th>\n",
       "      <td>2020-03-03</td>\n",
       "      <td>1079.0</td>\n",
       "    </tr>\n",
       "    <tr>\n",
       "      <th>8</th>\n",
       "      <td>2020-03-09</td>\n",
       "      <td>1074.5</td>\n",
       "    </tr>\n",
       "    <tr>\n",
       "      <th>4</th>\n",
       "      <td>2020-03-05</td>\n",
       "      <td>1054.5</td>\n",
       "    </tr>\n",
       "    <tr>\n",
       "      <th>9</th>\n",
       "      <td>2020-03-10</td>\n",
       "      <td>1053.0</td>\n",
       "    </tr>\n",
       "    <tr>\n",
       "      <th>...</th>\n",
       "      <td>...</td>\n",
       "      <td>...</td>\n",
       "    </tr>\n",
       "    <tr>\n",
       "      <th>41</th>\n",
       "      <td>2020-04-11</td>\n",
       "      <td>42.0</td>\n",
       "    </tr>\n",
       "    <tr>\n",
       "      <th>35</th>\n",
       "      <td>2020-04-05</td>\n",
       "      <td>38.0</td>\n",
       "    </tr>\n",
       "    <tr>\n",
       "      <th>49</th>\n",
       "      <td>2020-04-19</td>\n",
       "      <td>38.0</td>\n",
       "    </tr>\n",
       "    <tr>\n",
       "      <th>56</th>\n",
       "      <td>2020-04-26</td>\n",
       "      <td>36.0</td>\n",
       "    </tr>\n",
       "    <tr>\n",
       "      <th>42</th>\n",
       "      <td>2020-04-12</td>\n",
       "      <td>32.5</td>\n",
       "    </tr>\n",
       "  </tbody>\n",
       "</table>\n",
       "<p>304 rows × 2 columns</p>\n",
       "</div>"
      ],
      "text/plain": [
       "         date  daily_entries\n",
       "7  2020-03-08        43199.5\n",
       "2  2020-03-03         1079.0\n",
       "8  2020-03-09         1074.5\n",
       "4  2020-03-05         1054.5\n",
       "9  2020-03-10         1053.0\n",
       "..        ...            ...\n",
       "41 2020-04-11           42.0\n",
       "35 2020-04-05           38.0\n",
       "49 2020-04-19           38.0\n",
       "56 2020-04-26           36.0\n",
       "42 2020-04-12           32.5\n",
       "\n",
       "[304 rows x 2 columns]"
      ]
     },
     "execution_count": 33,
     "metadata": {},
     "output_type": "execute_result"
    }
   ],
   "source": [
    "tmp1.sort_values(by = \"daily_entries\", ascending = False)"
   ]
  },
  {
   "cell_type": "code",
   "execution_count": 34,
   "metadata": {},
   "outputs": [],
   "source": [
    "tmp1_mar_check = tmp1[(tmp1[\"date\"] >= \"2020-03-01\") & (tmp1[\"date\"] < \"2020-03-15\")]\n"
   ]
  },
  {
   "cell_type": "code",
   "execution_count": 35,
   "metadata": {},
   "outputs": [
    {
     "data": {
      "text/plain": [
       "[<matplotlib.lines.Line2D at 0x7fd4ccdb1880>]"
      ]
     },
     "execution_count": 35,
     "metadata": {},
     "output_type": "execute_result"
    },
    {
     "data": {
      "image/png": "[encoded data removed]",
      "text/plain": [
       "<Figure size 1080x360 with 1 Axes>"
      ]
     },
     "metadata": {
      "needs_background": "light"
     },
     "output_type": "display_data"
    }
   ],
   "source": [
    "plt.figure(figsize = (15,5))\n",
    "plt.plot(tmp1_mar_check.date, tmp1_mar_check.daily_entries)"
   ]
  },
  {
   "cell_type": "markdown",
   "metadata": {},
   "source": [
    "#### The extreme value appears in 2020-03-08, let's pull it from the master data"
   ]
  },
  {
   "cell_type": "code",
   "execution_count": 47,
   "metadata": {},
   "outputs": [
    {
     "data": {
      "text/html": [
       "<div>\n",
       "<style scoped>\n",
       "    .dataframe tbody tr th:only-of-type {\n",
       "        vertical-align: middle;\n",
       "    }\n",
       "\n",
       "    .dataframe tbody tr th {\n",
       "        vertical-align: top;\n",
       "    }\n",
       "\n",
       "    .dataframe thead th {\n",
       "        text-align: right;\n",
       "    }\n",
       "</style>\n",
       "<table border=\"1\" class=\"dataframe\">\n",
       "  <thead>\n",
       "    <tr style=\"text-align: right;\">\n",
       "      <th></th>\n",
       "      <th>CA</th>\n",
       "      <th>unit</th>\n",
       "      <th>SCP</th>\n",
       "      <th>station</th>\n",
       "      <th>linename</th>\n",
       "      <th>division</th>\n",
       "      <th>date</th>\n",
       "      <th>desc</th>\n",
       "      <th>entries</th>\n",
       "      <th>exits</th>\n",
       "      <th>date_next</th>\n",
       "      <th>entries_next</th>\n",
       "      <th>daily_entries</th>\n",
       "      <th>week_begin</th>\n",
       "      <th>borough</th>\n",
       "      <th>year_month</th>\n",
       "    </tr>\n",
       "  </thead>\n",
       "  <tbody>\n",
       "    <tr>\n",
       "      <th>113964</th>\n",
       "      <td>R325</td>\n",
       "      <td>R388</td>\n",
       "      <td>00-00-00</td>\n",
       "      <td>E 180 ST</td>\n",
       "      <td>25</td>\n",
       "      <td>IRT</td>\n",
       "      <td>2020-03-08</td>\n",
       "      <td>REGULAR</td>\n",
       "      <td>1489137</td>\n",
       "      <td>1842745</td>\n",
       "      <td>2020-11-02</td>\n",
       "      <td>9812.0</td>\n",
       "      <td>1479325.0</td>\n",
       "      <td>2020-03-02</td>\n",
       "      <td>bx</td>\n",
       "      <td>2020-03</td>\n",
       "    </tr>\n",
       "    <tr>\n",
       "      <th>95072</th>\n",
       "      <td>R507</td>\n",
       "      <td>R134</td>\n",
       "      <td>00-03-03</td>\n",
       "      <td>HUNTERS PT AV</td>\n",
       "      <td>7</td>\n",
       "      <td>IRT</td>\n",
       "      <td>2020-03-08</td>\n",
       "      <td>REGULAR</td>\n",
       "      <td>31565</td>\n",
       "      <td>25749</td>\n",
       "      <td>2020-11-02</td>\n",
       "      <td>1277937.0</td>\n",
       "      <td>1246372.0</td>\n",
       "      <td>2020-03-02</td>\n",
       "      <td>q</td>\n",
       "      <td>2020-03</td>\n",
       "    </tr>\n",
       "    <tr>\n",
       "      <th>8065</th>\n",
       "      <td>R647</td>\n",
       "      <td>R110</td>\n",
       "      <td>02-05-00</td>\n",
       "      <td>FLATBUSH AV-B.C</td>\n",
       "      <td>25</td>\n",
       "      <td>IRT</td>\n",
       "      <td>2020-03-08</td>\n",
       "      <td>REGULAR</td>\n",
       "      <td>1174495</td>\n",
       "      <td>1232813</td>\n",
       "      <td>2020-11-02</td>\n",
       "      <td>3109.0</td>\n",
       "      <td>1171386.0</td>\n",
       "      <td>2020-03-02</td>\n",
       "      <td>bk</td>\n",
       "      <td>2020-03</td>\n",
       "    </tr>\n",
       "    <tr>\n",
       "      <th>422332</th>\n",
       "      <td>N095</td>\n",
       "      <td>R014</td>\n",
       "      <td>00-03-08</td>\n",
       "      <td>FULTON ST</td>\n",
       "      <td>ACJZ2345</td>\n",
       "      <td>IND</td>\n",
       "      <td>2020-03-08</td>\n",
       "      <td>REGULAR</td>\n",
       "      <td>1190315</td>\n",
       "      <td>2355543</td>\n",
       "      <td>2020-11-02</td>\n",
       "      <td>20885.0</td>\n",
       "      <td>1169430.0</td>\n",
       "      <td>2020-03-02</td>\n",
       "      <td>m</td>\n",
       "      <td>2020-03</td>\n",
       "    </tr>\n",
       "    <tr>\n",
       "      <th>116027</th>\n",
       "      <td>R315</td>\n",
       "      <td>R406</td>\n",
       "      <td>01-00-00</td>\n",
       "      <td>PROSPECT AV</td>\n",
       "      <td>25</td>\n",
       "      <td>IRT</td>\n",
       "      <td>2020-03-08</td>\n",
       "      <td>REGULAR</td>\n",
       "      <td>1080701</td>\n",
       "      <td>1773230</td>\n",
       "      <td>2020-10-05</td>\n",
       "      <td>8.0</td>\n",
       "      <td>1080693.0</td>\n",
       "      <td>2020-03-02</td>\n",
       "      <td>bx</td>\n",
       "      <td>2020-03</td>\n",
       "    </tr>\n",
       "    <tr>\n",
       "      <th>...</th>\n",
       "      <td>...</td>\n",
       "      <td>...</td>\n",
       "      <td>...</td>\n",
       "      <td>...</td>\n",
       "      <td>...</td>\n",
       "      <td>...</td>\n",
       "      <td>...</td>\n",
       "      <td>...</td>\n",
       "      <td>...</td>\n",
       "      <td>...</td>\n",
       "      <td>...</td>\n",
       "      <td>...</td>\n",
       "      <td>...</td>\n",
       "      <td>...</td>\n",
       "      <td>...</td>\n",
       "      <td>...</td>\n",
       "    </tr>\n",
       "    <tr>\n",
       "      <th>62883</th>\n",
       "      <td>R532</td>\n",
       "      <td>R328</td>\n",
       "      <td>00-05-04</td>\n",
       "      <td>METS-WILLETS PT</td>\n",
       "      <td>7</td>\n",
       "      <td>IRT</td>\n",
       "      <td>2020-03-08</td>\n",
       "      <td>REGULAR</td>\n",
       "      <td>253449</td>\n",
       "      <td>19714</td>\n",
       "      <td>2020-11-02</td>\n",
       "      <td>253450.0</td>\n",
       "      <td>1.0</td>\n",
       "      <td>2020-03-02</td>\n",
       "      <td>q</td>\n",
       "      <td>2020-03</td>\n",
       "    </tr>\n",
       "    <tr>\n",
       "      <th>102160</th>\n",
       "      <td>R422</td>\n",
       "      <td>R428</td>\n",
       "      <td>00-05-00</td>\n",
       "      <td>BUHRE AV</td>\n",
       "      <td>6</td>\n",
       "      <td>IRT</td>\n",
       "      <td>2020-03-08</td>\n",
       "      <td>REGULAR</td>\n",
       "      <td>527</td>\n",
       "      <td>0</td>\n",
       "      <td>2020-11-02</td>\n",
       "      <td>528.0</td>\n",
       "      <td>1.0</td>\n",
       "      <td>2020-03-02</td>\n",
       "      <td>bx</td>\n",
       "      <td>2020-03</td>\n",
       "    </tr>\n",
       "    <tr>\n",
       "      <th>62880</th>\n",
       "      <td>R532</td>\n",
       "      <td>R328</td>\n",
       "      <td>00-06-01</td>\n",
       "      <td>METS-WILLETS PT</td>\n",
       "      <td>7</td>\n",
       "      <td>IRT</td>\n",
       "      <td>2020-03-08</td>\n",
       "      <td>REGULAR</td>\n",
       "      <td>33647281</td>\n",
       "      <td>49112</td>\n",
       "      <td>2020-11-02</td>\n",
       "      <td>33647282.0</td>\n",
       "      <td>1.0</td>\n",
       "      <td>2020-03-02</td>\n",
       "      <td>q</td>\n",
       "      <td>2020-03</td>\n",
       "    </tr>\n",
       "    <tr>\n",
       "      <th>62877</th>\n",
       "      <td>R532</td>\n",
       "      <td>R328</td>\n",
       "      <td>00-06-04</td>\n",
       "      <td>METS-WILLETS PT</td>\n",
       "      <td>7</td>\n",
       "      <td>IRT</td>\n",
       "      <td>2020-03-08</td>\n",
       "      <td>REGULAR</td>\n",
       "      <td>169331</td>\n",
       "      <td>19750</td>\n",
       "      <td>2020-11-02</td>\n",
       "      <td>169332.0</td>\n",
       "      <td>1.0</td>\n",
       "      <td>2020-03-02</td>\n",
       "      <td>q</td>\n",
       "      <td>2020-03</td>\n",
       "    </tr>\n",
       "    <tr>\n",
       "      <th>392956</th>\n",
       "      <td>N185</td>\n",
       "      <td>R417</td>\n",
       "      <td>00-05-00</td>\n",
       "      <td>BEACH 98 ST</td>\n",
       "      <td>AS</td>\n",
       "      <td>IND</td>\n",
       "      <td>2020-03-08</td>\n",
       "      <td>REGULAR</td>\n",
       "      <td>196747</td>\n",
       "      <td>262144</td>\n",
       "      <td>2020-11-02</td>\n",
       "      <td>196748.0</td>\n",
       "      <td>1.0</td>\n",
       "      <td>2020-03-02</td>\n",
       "      <td>q</td>\n",
       "      <td>2020-03</td>\n",
       "    </tr>\n",
       "  </tbody>\n",
       "</table>\n",
       "<p>1688 rows × 16 columns</p>\n",
       "</div>"
      ],
      "text/plain": [
       "          CA  unit       SCP          station  linename division       date  \\\n",
       "113964  R325  R388  00-00-00         E 180 ST        25      IRT 2020-03-08   \n",
       "95072   R507  R134  00-03-03    HUNTERS PT AV         7      IRT 2020-03-08   \n",
       "8065    R647  R110  02-05-00  FLATBUSH AV-B.C        25      IRT 2020-03-08   \n",
       "422332  N095  R014  00-03-08        FULTON ST  ACJZ2345      IND 2020-03-08   \n",
       "116027  R315  R406  01-00-00      PROSPECT AV        25      IRT 2020-03-08   \n",
       "...      ...   ...       ...              ...       ...      ...        ...   \n",
       "62883   R532  R328  00-05-04  METS-WILLETS PT         7      IRT 2020-03-08   \n",
       "102160  R422  R428  00-05-00         BUHRE AV         6      IRT 2020-03-08   \n",
       "62880   R532  R328  00-06-01  METS-WILLETS PT         7      IRT 2020-03-08   \n",
       "62877   R532  R328  00-06-04  METS-WILLETS PT         7      IRT 2020-03-08   \n",
       "392956  N185  R417  00-05-00      BEACH 98 ST        AS      IND 2020-03-08   \n",
       "\n",
       "           desc   entries    exits   date_next  entries_next  daily_entries  \\\n",
       "113964  REGULAR   1489137  1842745  2020-11-02        9812.0      1479325.0   \n",
       "95072   REGULAR     31565    25749  2020-11-02     1277937.0      1246372.0   \n",
       "8065    REGULAR   1174495  1232813  2020-11-02        3109.0      1171386.0   \n",
       "422332  REGULAR   1190315  2355543  2020-11-02       20885.0      1169430.0   \n",
       "116027  REGULAR   1080701  1773230  2020-10-05           8.0      1080693.0   \n",
       "...         ...       ...      ...         ...           ...            ...   \n",
       "62883   REGULAR    253449    19714  2020-11-02      253450.0            1.0   \n",
       "102160  REGULAR       527        0  2020-11-02         528.0            1.0   \n",
       "62880   REGULAR  33647281    49112  2020-11-02    33647282.0            1.0   \n",
       "62877   REGULAR    169331    19750  2020-11-02      169332.0            1.0   \n",
       "392956  REGULAR    196747   262144  2020-11-02      196748.0            1.0   \n",
       "\n",
       "       week_begin borough year_month  \n",
       "113964 2020-03-02      bx    2020-03  \n",
       "95072  2020-03-02       q    2020-03  \n",
       "8065   2020-03-02      bk    2020-03  \n",
       "422332 2020-03-02       m    2020-03  \n",
       "116027 2020-03-02      bx    2020-03  \n",
       "...           ...     ...        ...  \n",
       "62883  2020-03-02       q    2020-03  \n",
       "102160 2020-03-02      bx    2020-03  \n",
       "62880  2020-03-02       q    2020-03  \n",
       "62877  2020-03-02       q    2020-03  \n",
       "392956 2020-03-02       q    2020-03  \n",
       "\n",
       "[1688 rows x 16 columns]"
      ]
     },
     "execution_count": 47,
     "metadata": {},
     "output_type": "execute_result"
    }
   ],
   "source": [
    "df_mta_master[(df_mta_master['date'] == \"2020-03-08\")].sort_values(\"daily_entries\", ascending = False)"
   ]
  },
  {
   "cell_type": "code",
   "execution_count": 52,
   "metadata": {},
   "outputs": [],
   "source": [
    "# Remove the data point of 2020-03-08 as it was identified as an outlier and it will skew the data a lot when we calculate the avg weekly entries\n",
    "df_mta_masterV2 = df_mta_master[(df_mta_master[\"date\"] != \"2020-03-08\")]"
   ]
  },
  {
   "cell_type": "code",
   "execution_count": 53,
   "metadata": {},
   "outputs": [],
   "source": [
    "tmp1 = df_mta_masterV2.groupby([\"date\"])[\"daily_entries\"].median().reset_index()"
   ]
  },
  {
   "cell_type": "code",
   "execution_count": 56,
   "metadata": {},
   "outputs": [
    {
     "data": {
      "image/png": "[encoded data removed]",
      "text/plain": [
       "<Figure size 1080x360 with 1 Axes>"
      ]
     },
     "metadata": {
      "needs_background": "light"
     },
     "output_type": "display_data"
    }
   ],
   "source": [
    "plt.figure(figsize = (15,5))\n",
    "plt.plot(tmp1.date, tmp1.daily_entries)\n",
    "\n",
    "plt.title(\"Daily Subway Entries Across All Turnstiles\")\n",
    "plt.xlabel(\"Date\")\n",
    "plt.ylabel(\"Daily Subway Entries\");"
   ]
  },
  {
   "cell_type": "code",
   "execution_count": 57,
   "metadata": {},
   "outputs": [],
   "source": [
    "#Visualize the data by borough\n",
    "tmp2 = df_mta_masterV2.groupby([\"borough\",\"date\"])[\"daily_entries\"].median().reset_index()\n"
   ]
  },
  {
   "cell_type": "code",
   "execution_count": 58,
   "metadata": {},
   "outputs": [
    {
     "name": "stderr",
     "output_type": "stream",
     "text": [
      "/Users/wentingdeng/opt/anaconda3/lib/python3.8/site-packages/seaborn/_decorators.py:36: FutureWarning: Pass the following variables as keyword args: x, y. From version 0.12, the only valid positional argument will be `data`, and passing other arguments without an explicit keyword will result in an error or misinterpretation.\n",
      "  warnings.warn(\n"
     ]
    },
    {
     "data": {
      "image/png": "[encoded data removed]",
      "text/plain": [
       "<Figure size 1080x360 with 1 Axes>"
      ]
     },
     "metadata": {
      "needs_background": "light"
     },
     "output_type": "display_data"
    }
   ],
   "source": [
    "plt.figure(figsize = (15,5))\n",
    "sns.lineplot(\"date\",\"daily_entries\", data = tmp2, hue = \"borough\");"
   ]
  },
  {
   "cell_type": "markdown",
   "metadata": {},
   "source": [
    "### It looks SI(Staten Island) is missing data after 2020-11"
   ]
  },
  {
   "cell_type": "markdown",
   "metadata": {},
   "source": [
    "# Check BX data in Jul 2020\n",
    "tmp2[(tmp2['borough'] == 'bx') &\n",
    "    (tmp2['date'] >= '2020-07-15') &\n",
    "    (tmp2['date'] < '2020-08-01')].sort_values(by = 'daily_entries', ascending = False).head(5)"
   ]
  },
  {
   "cell_type": "markdown",
   "metadata": {},
   "source": [
    "check_bx_jul = df_mta_masterV2[(df_mta_masterV2['date'] == '2020-07-24') &\n",
    "                              (df_mta_masterV2['borough'] == 'bx')]"
   ]
  },
  {
   "cell_type": "markdown",
   "metadata": {},
   "source": [
    "check_bx_jul.sort_values(by = 'daily_entries', ascending = False).head(5)"
   ]
  },
  {
   "cell_type": "markdown",
   "metadata": {},
   "source": [
    "mask = ((df_mta_masterV2['CA'] == 'N218') &\n",
    "        (df_mta_masterV2['unit'] == 'R112') &\n",
    "        (df_mta_master['SCP'] == '01-06-00') &\n",
    "        (df_mta_master['station'] == 'FORDHAM RD') &\n",
    "        (df_mta_master['year_month'] == '2020-07')\n",
    "       )\n",
    "\n"
   ]
  },
  {
   "cell_type": "markdown",
   "metadata": {},
   "source": [
    "df_mta_masterV2[mask].sort_values(by = 'date').tail()"
   ]
  },
  {
   "cell_type": "markdown",
   "metadata": {},
   "source": [
    "# delete the 2020-07-24 data point because it will skew the data a lot when we calculate the average weekly entries\n",
    "idx = df_mta_masterV2[(df_mta_masterV2['CA'] == 'N218') &\n",
    "        (df_mta_masterV2['unit'] == 'R112') &\n",
    "        (df_mta_master['SCP'] == '01-06-00') &\n",
    "        (df_mta_master['station'] == 'FORDHAM RD') &\n",
    "        (df_mta_master['date'] == '2020-07-24')].index"
   ]
  },
  {
   "cell_type": "markdown",
   "metadata": {},
   "source": [
    "df_mta_masterV2.drop(idx, inplace = True)\n"
   ]
  },
  {
   "cell_type": "markdown",
   "metadata": {},
   "source": [
    "tmp2 = df_mta_masterV2.groupby([\"borough\",\"date\"])[\"daily_entries\"].median().reset_index()"
   ]
  },
  {
   "cell_type": "markdown",
   "metadata": {},
   "source": [
    "plt.figure(figsize = (15,5))\n",
    "sns.lineplot(\"date\",\"daily_entries\", data = tmp2, hue = \"borough\");"
   ]
  },
  {
   "cell_type": "markdown",
   "metadata": {},
   "source": [
    "tmp2.date.max()"
   ]
  },
  {
   "cell_type": "markdown",
   "metadata": {},
   "source": [
    "### Data Analysis"
   ]
  },
  {
   "cell_type": "code",
   "execution_count": 59,
   "metadata": {},
   "outputs": [
    {
     "data": {
      "text/html": [
       "<div>\n",
       "<style scoped>\n",
       "    .dataframe tbody tr th:only-of-type {\n",
       "        vertical-align: middle;\n",
       "    }\n",
       "\n",
       "    .dataframe tbody tr th {\n",
       "        vertical-align: top;\n",
       "    }\n",
       "\n",
       "    .dataframe thead th {\n",
       "        text-align: right;\n",
       "    }\n",
       "</style>\n",
       "<table border=\"1\" class=\"dataframe\">\n",
       "  <thead>\n",
       "    <tr style=\"text-align: right;\">\n",
       "      <th></th>\n",
       "      <th>date</th>\n",
       "      <th>bx</th>\n",
       "      <th>m</th>\n",
       "      <th>q</th>\n",
       "      <th>si</th>\n",
       "      <th>bk</th>\n",
       "    </tr>\n",
       "  </thead>\n",
       "  <tbody>\n",
       "    <tr>\n",
       "      <th>0</th>\n",
       "      <td>2020-02-29</td>\n",
       "      <td>0</td>\n",
       "      <td>0</td>\n",
       "      <td>0</td>\n",
       "      <td>0</td>\n",
       "      <td>0</td>\n",
       "    </tr>\n",
       "    <tr>\n",
       "      <th>1</th>\n",
       "      <td>2020-03-01</td>\n",
       "      <td>0</td>\n",
       "      <td>0</td>\n",
       "      <td>0</td>\n",
       "      <td>0</td>\n",
       "      <td>0</td>\n",
       "    </tr>\n",
       "    <tr>\n",
       "      <th>2</th>\n",
       "      <td>2020-03-02</td>\n",
       "      <td>0</td>\n",
       "      <td>0</td>\n",
       "      <td>0</td>\n",
       "      <td>0</td>\n",
       "      <td>0</td>\n",
       "    </tr>\n",
       "    <tr>\n",
       "      <th>3</th>\n",
       "      <td>2020-03-03</td>\n",
       "      <td>0</td>\n",
       "      <td>0</td>\n",
       "      <td>0</td>\n",
       "      <td>0</td>\n",
       "      <td>0</td>\n",
       "    </tr>\n",
       "    <tr>\n",
       "      <th>4</th>\n",
       "      <td>2020-03-04</td>\n",
       "      <td>0</td>\n",
       "      <td>0</td>\n",
       "      <td>0</td>\n",
       "      <td>0</td>\n",
       "      <td>0</td>\n",
       "    </tr>\n",
       "  </tbody>\n",
       "</table>\n",
       "</div>"
      ],
      "text/plain": [
       "         date  bx  m  q  si  bk\n",
       "0  2020-02-29   0  0  0   0   0\n",
       "1  2020-03-01   0  0  0   0   0\n",
       "2  2020-03-02   0  0  0   0   0\n",
       "3  2020-03-03   0  0  0   0   0\n",
       "4  2020-03-04   0  0  0   0   0"
      ]
     },
     "execution_count": 59,
     "metadata": {},
     "output_type": "execute_result"
    }
   ],
   "source": [
    "# Accoridng to the Covid data documentation, the #Covid cases is not accurate, and they recomended to use the death count instead.\n",
    "# In this analysis I use the Covd death count as an indicator of Covid epidemic.\n",
    "df_covid = pd.read_sql(\n",
    "                        '''SELECT \n",
    "                               date(substr(date_of_interest,7,7) ||'-'||substr(date_of_interest,1,2)||'-'||substr(date_of_interest,4,2)) AS date\n",
    "                               ,SUM(BX_DEATH_COUNT) as bx\n",
    "                               ,SUM(MN_DEATH_COUNT) AS m\n",
    "                               ,SUM(QN_DEATH_COUNT) AS q\n",
    "                               ,SUM(SI_DEATH_COUNT) AS si\n",
    "                               ,SUM(BK_DEATH_COUNT) AS bk\n",
    "                            FROM df_covid\n",
    "                            GROUP BY 1''', engine)\n",
    "df_covid.head()"
   ]
  },
  {
   "cell_type": "code",
   "execution_count": 60,
   "metadata": {},
   "outputs": [
    {
     "data": {
      "text/html": [
       "<div>\n",
       "<style scoped>\n",
       "    .dataframe tbody tr th:only-of-type {\n",
       "        vertical-align: middle;\n",
       "    }\n",
       "\n",
       "    .dataframe tbody tr th {\n",
       "        vertical-align: top;\n",
       "    }\n",
       "\n",
       "    .dataframe thead th {\n",
       "        text-align: right;\n",
       "    }\n",
       "</style>\n",
       "<table border=\"1\" class=\"dataframe\">\n",
       "  <thead>\n",
       "    <tr style=\"text-align: right;\">\n",
       "      <th></th>\n",
       "      <th>date</th>\n",
       "      <th>borough</th>\n",
       "      <th>cases</th>\n",
       "    </tr>\n",
       "  </thead>\n",
       "  <tbody>\n",
       "    <tr>\n",
       "      <th>0</th>\n",
       "      <td>2020-02-29</td>\n",
       "      <td>bx</td>\n",
       "      <td>0</td>\n",
       "    </tr>\n",
       "    <tr>\n",
       "      <th>1</th>\n",
       "      <td>2020-03-01</td>\n",
       "      <td>bx</td>\n",
       "      <td>0</td>\n",
       "    </tr>\n",
       "    <tr>\n",
       "      <th>2</th>\n",
       "      <td>2020-03-02</td>\n",
       "      <td>bx</td>\n",
       "      <td>0</td>\n",
       "    </tr>\n",
       "    <tr>\n",
       "      <th>3</th>\n",
       "      <td>2020-03-03</td>\n",
       "      <td>bx</td>\n",
       "      <td>0</td>\n",
       "    </tr>\n",
       "    <tr>\n",
       "      <th>4</th>\n",
       "      <td>2020-03-04</td>\n",
       "      <td>bx</td>\n",
       "      <td>0</td>\n",
       "    </tr>\n",
       "  </tbody>\n",
       "</table>\n",
       "</div>"
      ],
      "text/plain": [
       "         date borough  cases\n",
       "0  2020-02-29      bx      0\n",
       "1  2020-03-01      bx      0\n",
       "2  2020-03-02      bx      0\n",
       "3  2020-03-03      bx      0\n",
       "4  2020-03-04      bx      0"
      ]
     },
     "execution_count": 60,
     "metadata": {},
     "output_type": "execute_result"
    }
   ],
   "source": [
    "#Pivot the table in order to join it with the mta master data\n",
    "df_covid_t = df_covid.melt(id_vars = [\"date\"],\n",
    "                                    var_name = \"borough\",\n",
    "                                    value_name = \"cases\")\n",
    "df_covid_t.head()"
   ]
  },
  {
   "cell_type": "code",
   "execution_count": 61,
   "metadata": {},
   "outputs": [],
   "source": [
    "df_covid_t[\"date\"] = pd.to_datetime(df_covid_t[\"date\"], format = \"%Y-%m-%d\")\n",
    "df_covid_t['week_begin'] = df_covid_t[\"date\"] - pd.to_timedelta(df_covid_t[\"date\"]\n",
    "                                                                          .dt.dayofweek, unit='d')"
   ]
  },
  {
   "cell_type": "code",
   "execution_count": 62,
   "metadata": {},
   "outputs": [
    {
     "data": {
      "text/html": [
       "<div>\n",
       "<style scoped>\n",
       "    .dataframe tbody tr th:only-of-type {\n",
       "        vertical-align: middle;\n",
       "    }\n",
       "\n",
       "    .dataframe tbody tr th {\n",
       "        vertical-align: top;\n",
       "    }\n",
       "\n",
       "    .dataframe thead th {\n",
       "        text-align: right;\n",
       "    }\n",
       "</style>\n",
       "<table border=\"1\" class=\"dataframe\">\n",
       "  <thead>\n",
       "    <tr style=\"text-align: right;\">\n",
       "      <th></th>\n",
       "      <th>date</th>\n",
       "      <th>borough</th>\n",
       "      <th>cases</th>\n",
       "      <th>week_begin</th>\n",
       "    </tr>\n",
       "  </thead>\n",
       "  <tbody>\n",
       "    <tr>\n",
       "      <th>0</th>\n",
       "      <td>2020-02-29</td>\n",
       "      <td>bx</td>\n",
       "      <td>0</td>\n",
       "      <td>2020-02-24</td>\n",
       "    </tr>\n",
       "    <tr>\n",
       "      <th>1</th>\n",
       "      <td>2020-03-01</td>\n",
       "      <td>bx</td>\n",
       "      <td>0</td>\n",
       "      <td>2020-02-24</td>\n",
       "    </tr>\n",
       "    <tr>\n",
       "      <th>2</th>\n",
       "      <td>2020-03-02</td>\n",
       "      <td>bx</td>\n",
       "      <td>0</td>\n",
       "      <td>2020-03-02</td>\n",
       "    </tr>\n",
       "    <tr>\n",
       "      <th>3</th>\n",
       "      <td>2020-03-03</td>\n",
       "      <td>bx</td>\n",
       "      <td>0</td>\n",
       "      <td>2020-03-02</td>\n",
       "    </tr>\n",
       "    <tr>\n",
       "      <th>4</th>\n",
       "      <td>2020-03-04</td>\n",
       "      <td>bx</td>\n",
       "      <td>0</td>\n",
       "      <td>2020-03-02</td>\n",
       "    </tr>\n",
       "  </tbody>\n",
       "</table>\n",
       "</div>"
      ],
      "text/plain": [
       "        date borough  cases week_begin\n",
       "0 2020-02-29      bx      0 2020-02-24\n",
       "1 2020-03-01      bx      0 2020-02-24\n",
       "2 2020-03-02      bx      0 2020-03-02\n",
       "3 2020-03-03      bx      0 2020-03-02\n",
       "4 2020-03-04      bx      0 2020-03-02"
      ]
     },
     "execution_count": 62,
     "metadata": {},
     "output_type": "execute_result"
    }
   ],
   "source": [
    "df_covid_t.head()"
   ]
  },
  {
   "cell_type": "code",
   "execution_count": 64,
   "metadata": {},
   "outputs": [],
   "source": [
    "#Create the dataset to groupby the entries and covid cases into weekly basis.\n",
    "df_mta_weekly_all = df_mta_masterV2.groupby(\"week_begin\")[\"daily_entries\"].median().reset_index()\n",
    "df_covid_weekly_all = df_covid_t.groupby(\"week_begin\")['cases'].median().reset_index()\n",
    "\n",
    "df_mta_weekly_all.rename(columns = {\"daily_entries\" : \"weekly_entries\"}, inplace = True)"
   ]
  },
  {
   "cell_type": "code",
   "execution_count": 66,
   "metadata": {},
   "outputs": [],
   "source": [
    "#append COVID cases to df_mta_tmp1\n",
    "mta_covid_weekly_all = df_mta_weekly_all.merge(df_covid_weekly_all,\n",
    "                                on = [\"week_begin\"],\n",
    "                                how = \"inner\")"
   ]
  },
  {
   "cell_type": "code",
   "execution_count": 67,
   "metadata": {},
   "outputs": [
    {
     "data": {
      "text/html": [
       "<div>\n",
       "<style scoped>\n",
       "    .dataframe tbody tr th:only-of-type {\n",
       "        vertical-align: middle;\n",
       "    }\n",
       "\n",
       "    .dataframe tbody tr th {\n",
       "        vertical-align: top;\n",
       "    }\n",
       "\n",
       "    .dataframe thead th {\n",
       "        text-align: right;\n",
       "    }\n",
       "</style>\n",
       "<table border=\"1\" class=\"dataframe\">\n",
       "  <thead>\n",
       "    <tr style=\"text-align: right;\">\n",
       "      <th></th>\n",
       "      <th>week_begin</th>\n",
       "      <th>weekly_entries</th>\n",
       "      <th>cases</th>\n",
       "    </tr>\n",
       "  </thead>\n",
       "  <tbody>\n",
       "    <tr>\n",
       "      <th>0</th>\n",
       "      <td>2020-02-24</td>\n",
       "      <td>443.0</td>\n",
       "      <td>0</td>\n",
       "    </tr>\n",
       "    <tr>\n",
       "      <th>1</th>\n",
       "      <td>2020-03-02</td>\n",
       "      <td>938.0</td>\n",
       "      <td>0</td>\n",
       "    </tr>\n",
       "    <tr>\n",
       "      <th>2</th>\n",
       "      <td>2020-03-09</td>\n",
       "      <td>694.0</td>\n",
       "      <td>0</td>\n",
       "    </tr>\n",
       "    <tr>\n",
       "      <th>3</th>\n",
       "      <td>2020-03-16</td>\n",
       "      <td>235.0</td>\n",
       "      <td>4</td>\n",
       "    </tr>\n",
       "    <tr>\n",
       "      <th>4</th>\n",
       "      <td>2020-03-23</td>\n",
       "      <td>101.0</td>\n",
       "      <td>30</td>\n",
       "    </tr>\n",
       "  </tbody>\n",
       "</table>\n",
       "</div>"
      ],
      "text/plain": [
       "  week_begin  weekly_entries  cases\n",
       "0 2020-02-24           443.0      0\n",
       "1 2020-03-02           938.0      0\n",
       "2 2020-03-09           694.0      0\n",
       "3 2020-03-16           235.0      4\n",
       "4 2020-03-23           101.0     30"
      ]
     },
     "execution_count": 67,
     "metadata": {},
     "output_type": "execute_result"
    }
   ],
   "source": [
    "mta_covid_weekly_all.head()"
   ]
  },
  {
   "cell_type": "code",
   "execution_count": 162,
   "metadata": {},
   "outputs": [
    {
     "data": {
      "text/plain": [
       "<matplotlib.legend.Legend at 0x7fd47dc55f10>"
      ]
     },
     "execution_count": 162,
     "metadata": {},
     "output_type": "execute_result"
    },
    {
     "data": {
      "image/png": "[encoded data removed]",
      "text/plain": [
       "<Figure size 1080x360 with 2 Axes>"
      ]
     },
     "metadata": {
      "needs_background": "light"
     },
     "output_type": "display_data"
    }
   ],
   "source": [
    "fig, ax = plt.subplots(figsize = (15,5))\n",
    "line1, =ax.plot(mta_covid_weekly_all.week_begin,mta_covid_weekly_all.weekly_entries, label = 'weekly_entries')\n",
    "ax.set_xlabel(\"Date\")\n",
    "ax.set_ylabel(\"Weekly Entries\")\n",
    "\n",
    "\n",
    "ax2 = ax.twinx()\n",
    "line2, =ax2.plot(mta_covid_weekly_all.week_begin, mta_covid_weekly_all.cases, label = 'weekly_cases', c = 'y')\n",
    "ax2.set_ylabel(\"Weekly Covid Cases\")\n",
    "\n",
    "plt.title(\"Weekly Subway Entries vs. Covid Cases\", size = 15, fontweight='bold')\n",
    "fig.legend([line1, line2], ['Weekly Entries', 'Weekly Covid Cases'], bbox_to_anchor=[0.9, 0.85], \n",
    "           ncol=2)"
   ]
  },
  {
   "cell_type": "markdown",
   "metadata": {},
   "source": [
    "Given the patterns observed above, I further broke down the data into two:\n",
    "  * Covid Early Stage: 2020-01-01 - 2020-05-31 \n",
    "  * Covid Mid-Term: 2020-06-01 - 2020-10-31\n",
    "  \n",
    "Notes: Holiday season was excluded from this analysis because some Staten Island is missing data after Nov 2020 as the data imcomplete issues in the station mapping file"
   ]
  },
  {
   "cell_type": "code",
   "execution_count": 105,
   "metadata": {},
   "outputs": [],
   "source": [
    "mta_covid_weekly_all_early = mta_covid_weekly_all[mta_covid_weekly_all.week_begin < \"2020-06-01\"]"
   ]
  },
  {
   "cell_type": "code",
   "execution_count": 163,
   "metadata": {},
   "outputs": [
    {
     "data": {
      "image/png": "[encoded data removed]",
      "text/plain": [
       "<Figure size 1080x360 with 2 Axes>"
      ]
     },
     "metadata": {
      "needs_background": "light"
     },
     "output_type": "display_data"
    }
   ],
   "source": [
    "fig, ax = plt.subplots(figsize = (15,5))\n",
    "line1, = ax.plot(mta_covid_weekly_all_early.week_begin,mta_covid_weekly_all_early.weekly_entries, label = 'weekly_entries')\n",
    "ax.set_xlabel(\"Date\")\n",
    "ax.set_ylabel(\"Weekly Entries\")\n",
    "\n",
    "\n",
    "ax2 = ax.twinx()\n",
    "lien2, = ax2.plot(mta_covid_weekly_all_early.week_begin, mta_covid_weekly_all_early.cases, label = 'weekly_cases', c = 'y')\n",
    "ax2.set_ylabel(\"Weekly Covid Cases\")\n",
    "\n",
    "plt.title(\"Weekly Subway Entries vs. Covid Cases In Early Pandemic Time Period\", size = 15, fontweight='bold')\n",
    "fig.legend([line1,line2],['Weekly Entries', 'Weekly Covid Cases'], bbox_to_anchor=[0.9, 0.85],ncol=2);"
   ]
  },
  {
   "cell_type": "code",
   "execution_count": 116,
   "metadata": {},
   "outputs": [
    {
     "name": "stderr",
     "output_type": "stream",
     "text": [
      "<ipython-input-116-d0c92d07ac8b>:2: SettingWithCopyWarning: \n",
      "A value is trying to be set on a copy of a slice from a DataFrame.\n",
      "Try using .loc[row_indexer,col_indexer] = value instead\n",
      "\n",
      "See the caveats in the documentation: https://pandas.pydata.org/pandas-docs/stable/user_guide/indexing.html#returning-a-view-versus-a-copy\n",
      "  mta_covid_weekly_all_early['cases_shift'] = mta_covid_weekly_all_early.cases.shift(-4)\n"
     ]
    }
   ],
   "source": [
    "#Consider the lag of subway riderships and exposure of Covid cases I added a 4 weeks lag here\n",
    "mta_covid_weekly_all_early['cases_shift'] = mta_covid_weekly_all_early.cases.shift(-4)"
   ]
  },
  {
   "cell_type": "code",
   "execution_count": 117,
   "metadata": {},
   "outputs": [],
   "source": [
    "mta_covid_weekly_all_early_shift = mta_covid_weekly_all_early[mta_covid_weekly_all_early[\"cases_shift\"].notnull()]"
   ]
  },
  {
   "cell_type": "code",
   "execution_count": 118,
   "metadata": {},
   "outputs": [
    {
     "data": {
      "text/plain": [
       "array([[1.        , 0.74314761],\n",
       "       [0.74314761, 1.        ]])"
      ]
     },
     "execution_count": 118,
     "metadata": {},
     "output_type": "execute_result"
    }
   ],
   "source": [
    "np.corrcoef(mta_covid_weekly_all_early_shift.weekly_entries, mta_covid_weekly_all_early_shift.cases_shift)"
   ]
  },
  {
   "cell_type": "code",
   "execution_count": 120,
   "metadata": {},
   "outputs": [],
   "source": [
    "mta_covid_weekly_all_later = mta_covid_weekly_all[(mta_covid_weekly_all.week_begin >= \"2020-06-01\") &\n",
    "                                                 (mta_covid_weekly_all.week_begin < \"2020-11-01\")]"
   ]
  },
  {
   "cell_type": "code",
   "execution_count": 121,
   "metadata": {},
   "outputs": [
    {
     "data": {
      "text/plain": [
       "array([[ 1.        , -0.72568767],\n",
       "       [-0.72568767,  1.        ]])"
      ]
     },
     "execution_count": 121,
     "metadata": {},
     "output_type": "execute_result"
    }
   ],
   "source": [
    "np.corrcoef(mta_covid_weekly_all_later.weekly_entries, mta_covid_weekly_all_later.cases)"
   ]
  },
  {
   "cell_type": "code",
   "execution_count": 173,
   "metadata": {},
   "outputs": [
    {
     "data": {
      "image/png": "[encoded data removed]",
      "text/plain": [
       "<Figure size 1080x360 with 2 Axes>"
      ]
     },
     "metadata": {
      "needs_background": "light"
     },
     "output_type": "display_data"
    }
   ],
   "source": [
    "fig, ax = plt.subplots(figsize = (15,5))\n",
    "line1, = ax.plot(mta_covid_weekly_all_later.week_begin,mta_covid_weekly_all_later.weekly_entries, label = 'weekly_entries')\n",
    "ax.set_xlabel(\"Date\")\n",
    "ax.set_ylabel(\"Weekly Entries\")\n",
    "\n",
    "\n",
    "ax2 = ax.twinx()\n",
    "line2, = ax2.plot(mta_covid_weekly_all_later.week_begin, mta_covid_weekly_all_later.cases, label = 'weekly_cases', c = 'y')\n",
    "ax2.set_ylabel(\"Weekly Covid Cases\")\n",
    "\n",
    "plt.title(\"Weekly Subway Entries vs. Covid Cases In Mid-Term Pandemic Time Period\", size = 15, fontweight='bold')\n",
    "fig.legend([line1, line2],['Weekly Entries', 'Weekly Covid Cases'], bbox_to_anchor = [0.6, 0.89],ncol=2);\n",
    "\n"
   ]
  },
  {
   "cell_type": "code",
   "execution_count": 124,
   "metadata": {},
   "outputs": [
    {
     "name": "stderr",
     "output_type": "stream",
     "text": [
      "<ipython-input-124-d95c5e091a7c>:2: SettingWithCopyWarning: \n",
      "A value is trying to be set on a copy of a slice from a DataFrame.\n",
      "Try using .loc[row_indexer,col_indexer] = value instead\n",
      "\n",
      "See the caveats in the documentation: https://pandas.pydata.org/pandas-docs/stable/user_guide/indexing.html#returning-a-view-versus-a-copy\n",
      "  mta_covid_weekly_all_later[\"cases_shift\"] = mta_covid_weekly_all_later['cases'].shift(-1)\n"
     ]
    }
   ],
   "source": [
    "# Added lag here. After testing, lag 1 returns the highest correlation.\n",
    "mta_covid_weekly_all_later[\"cases_shift\"] = mta_covid_weekly_all_later['cases'].shift(-1)\n",
    "mta_covid_weekly_all_later_shift= mta_covid_weekly_all_later[mta_covid_weekly_all_later[\"cases_shift\"].notnull()]"
   ]
  },
  {
   "cell_type": "code",
   "execution_count": 125,
   "metadata": {},
   "outputs": [
    {
     "data": {
      "text/plain": [
       "array([[ 1.        , -0.70675273],\n",
       "       [-0.70675273,  1.        ]])"
      ]
     },
     "execution_count": 125,
     "metadata": {},
     "output_type": "execute_result"
    }
   ],
   "source": [
    "np.corrcoef(mta_covid_weekly_all_later_shift.weekly_entries, mta_covid_weekly_all_later_shift.cases_shift)"
   ]
  },
  {
   "cell_type": "code",
   "execution_count": null,
   "metadata": {},
   "outputs": [],
   "source": []
  },
  {
   "cell_type": "markdown",
   "metadata": {},
   "source": [
    "### Analysis By Borough"
   ]
  },
  {
   "cell_type": "code",
   "execution_count": 143,
   "metadata": {},
   "outputs": [],
   "source": [
    "df_mta_weekly_by_borough = df_mta_masterV2.groupby([\"borough\",\"week_begin\"])[\"daily_entries\"].median().reset_index()\n",
    "df_mta_weekly_by_borough.rename(columns = {\"daily_entries\" : \"weekly_entries\"}, inplace = True)"
   ]
  },
  {
   "cell_type": "code",
   "execution_count": 144,
   "metadata": {},
   "outputs": [
    {
     "data": {
      "text/html": [
       "<div>\n",
       "<style scoped>\n",
       "    .dataframe tbody tr th:only-of-type {\n",
       "        vertical-align: middle;\n",
       "    }\n",
       "\n",
       "    .dataframe tbody tr th {\n",
       "        vertical-align: top;\n",
       "    }\n",
       "\n",
       "    .dataframe thead th {\n",
       "        text-align: right;\n",
       "    }\n",
       "</style>\n",
       "<table border=\"1\" class=\"dataframe\">\n",
       "  <thead>\n",
       "    <tr style=\"text-align: right;\">\n",
       "      <th></th>\n",
       "      <th>borough</th>\n",
       "      <th>week_begin</th>\n",
       "      <th>cases</th>\n",
       "    </tr>\n",
       "  </thead>\n",
       "  <tbody>\n",
       "    <tr>\n",
       "      <th>0</th>\n",
       "      <td>bk</td>\n",
       "      <td>2020-02-24</td>\n",
       "      <td>0</td>\n",
       "    </tr>\n",
       "    <tr>\n",
       "      <th>1</th>\n",
       "      <td>bk</td>\n",
       "      <td>2020-03-02</td>\n",
       "      <td>0</td>\n",
       "    </tr>\n",
       "    <tr>\n",
       "      <th>2</th>\n",
       "      <td>bk</td>\n",
       "      <td>2020-03-09</td>\n",
       "      <td>0</td>\n",
       "    </tr>\n",
       "    <tr>\n",
       "      <th>3</th>\n",
       "      <td>bk</td>\n",
       "      <td>2020-03-16</td>\n",
       "      <td>6</td>\n",
       "    </tr>\n",
       "    <tr>\n",
       "      <th>4</th>\n",
       "      <td>bk</td>\n",
       "      <td>2020-03-23</td>\n",
       "      <td>50</td>\n",
       "    </tr>\n",
       "  </tbody>\n",
       "</table>\n",
       "</div>"
      ],
      "text/plain": [
       "  borough week_begin  cases\n",
       "0      bk 2020-02-24      0\n",
       "1      bk 2020-03-02      0\n",
       "2      bk 2020-03-09      0\n",
       "3      bk 2020-03-16      6\n",
       "4      bk 2020-03-23     50"
      ]
     },
     "execution_count": 144,
     "metadata": {},
     "output_type": "execute_result"
    }
   ],
   "source": [
    "df_covid_weekly_by_borough = df_covid_t.groupby([\"borough\",\"week_begin\"])[\"cases\"].median().reset_index()\n",
    "df_covid_weekly_by_borough.head()"
   ]
  },
  {
   "cell_type": "code",
   "execution_count": 145,
   "metadata": {},
   "outputs": [
    {
     "data": {
      "text/html": [
       "<div>\n",
       "<style scoped>\n",
       "    .dataframe tbody tr th:only-of-type {\n",
       "        vertical-align: middle;\n",
       "    }\n",
       "\n",
       "    .dataframe tbody tr th {\n",
       "        vertical-align: top;\n",
       "    }\n",
       "\n",
       "    .dataframe thead th {\n",
       "        text-align: right;\n",
       "    }\n",
       "</style>\n",
       "<table border=\"1\" class=\"dataframe\">\n",
       "  <thead>\n",
       "    <tr style=\"text-align: right;\">\n",
       "      <th></th>\n",
       "      <th>borough</th>\n",
       "      <th>week_begin</th>\n",
       "      <th>weekly_entries</th>\n",
       "      <th>cases</th>\n",
       "    </tr>\n",
       "  </thead>\n",
       "  <tbody>\n",
       "    <tr>\n",
       "      <th>0</th>\n",
       "      <td>bk</td>\n",
       "      <td>2020-02-24</td>\n",
       "      <td>441.0</td>\n",
       "      <td>0</td>\n",
       "    </tr>\n",
       "    <tr>\n",
       "      <th>1</th>\n",
       "      <td>bk</td>\n",
       "      <td>2020-03-02</td>\n",
       "      <td>835.0</td>\n",
       "      <td>0</td>\n",
       "    </tr>\n",
       "    <tr>\n",
       "      <th>2</th>\n",
       "      <td>bk</td>\n",
       "      <td>2020-03-09</td>\n",
       "      <td>651.0</td>\n",
       "      <td>0</td>\n",
       "    </tr>\n",
       "    <tr>\n",
       "      <th>3</th>\n",
       "      <td>bk</td>\n",
       "      <td>2020-03-16</td>\n",
       "      <td>259.5</td>\n",
       "      <td>6</td>\n",
       "    </tr>\n",
       "    <tr>\n",
       "      <th>4</th>\n",
       "      <td>bk</td>\n",
       "      <td>2020-03-23</td>\n",
       "      <td>118.5</td>\n",
       "      <td>50</td>\n",
       "    </tr>\n",
       "  </tbody>\n",
       "</table>\n",
       "</div>"
      ],
      "text/plain": [
       "  borough week_begin  weekly_entries  cases\n",
       "0      bk 2020-02-24           441.0      0\n",
       "1      bk 2020-03-02           835.0      0\n",
       "2      bk 2020-03-09           651.0      0\n",
       "3      bk 2020-03-16           259.5      6\n",
       "4      bk 2020-03-23           118.5     50"
      ]
     },
     "execution_count": 145,
     "metadata": {},
     "output_type": "execute_result"
    }
   ],
   "source": [
    "mta_covid_weekly_by_borough = df_mta_weekly_by_borough.merge(df_covid_weekly_by_borough,\n",
    "                                                            on = [\"borough\", \"week_begin\"],\n",
    "                                                            how = \"inner\")\n",
    "mta_covid_weekly_by_borough.head()"
   ]
  },
  {
   "cell_type": "code",
   "execution_count": 198,
   "metadata": {},
   "outputs": [],
   "source": [
    "bk = mta_covid_weekly_by_borough[(mta_covid_weekly_by_borough.borough == 'bk') &\n",
    "                                (mta_covid_weekly_by_borough.week_begin < \"2020-11-01\")]\n",
    "bx = mta_covid_weekly_by_borough[(mta_covid_weekly_by_borough.borough == 'bx') &\n",
    "                                (mta_covid_weekly_by_borough.week_begin < \"2020-11-01\")]\n",
    "m = mta_covid_weekly_by_borough[(mta_covid_weekly_by_borough.borough == 'm') &\n",
    "                                (mta_covid_weekly_by_borough.week_begin < \"2020-11-01\")]\n",
    "q = mta_covid_weekly_by_borough[(mta_covid_weekly_by_borough.borough == 'q') &\n",
    "                                (mta_covid_weekly_by_borough.week_begin < \"2020-11-01\")]\n",
    "si = mta_covid_weekly_by_borough[(mta_covid_weekly_by_borough.borough == 'si') &\n",
    "                                (mta_covid_weekly_by_borough.week_begin < \"2020-11-01\")]"
   ]
  },
  {
   "cell_type": "code",
   "execution_count": 199,
   "metadata": {},
   "outputs": [],
   "source": [
    "bk_pre = bk[bk['week_begin'] < \"2020-06-01\"]\n",
    "bx_pre = bx[bx['week_begin'] < \"2020-06-01\"]\n",
    "m_pre = m[m['week_begin'] < \"2020-06-01\"]\n",
    "q_pre = q[q['week_begin'] < \"2020-06-01\"]\n",
    "si_pre = si[si['week_begin'] < \"2020-06-01\"]\n",
    "\n",
    "\n",
    "\n",
    "bk_later = bk[bk['week_begin'] >= \"2020-06-01\"]\n",
    "bx_later = bx[bx['week_begin'] >= \"2020-06-01\"]\n",
    "m_later = m[m['week_begin'] >= \"2020-06-01\"]\n",
    "q_later = q[q['week_begin'] >= \"2020-06-01\"]\n",
    "si_later = si[si['week_begin'] >= \"2020-06-01\"]"
   ]
  },
  {
   "cell_type": "code",
   "execution_count": null,
   "metadata": {},
   "outputs": [],
   "source": []
  },
  {
   "cell_type": "code",
   "execution_count": null,
   "metadata": {},
   "outputs": [],
   "source": [
    "#Brooklyn"
   ]
  },
  {
   "cell_type": "code",
   "execution_count": 210,
   "metadata": {},
   "outputs": [
    {
     "data": {
      "image/png": "[encoded data removed]",
      "text/plain": [
       "<Figure size 1080x360 with 2 Axes>"
      ]
     },
     "metadata": {
      "needs_background": "light"
     },
     "output_type": "display_data"
    }
   ],
   "source": [
    "fig, ax = plt.subplots(figsize = (15,5))\n",
    "line1, = ax.plot(bk.week_begin,bk.weekly_entries, label = 'weekly_entries')\n",
    "ax.set_xlabel(\"Date\")\n",
    "ax.set_ylabel(\"Weekly Entries\")\n",
    "\n",
    "\n",
    "ax2 = ax.twinx()\n",
    "line2, = ax2.plot(bk.week_begin, bx.cases, label = 'weekly_cases', c = 'y')\n",
    "ax2.set_ylabel(\"Weekly Covid Cases\")\n",
    "\n",
    "plt.title(\"Weekly Subway Entries vs. Covid Cases- Brooklyn\", size = 15, fontweight='bold')\n",
    "fig.legend([line1, line2],['Weekly Entries', 'Weekly Covid Cases'], bbox_to_anchor = [0.9, 0.89],ncol=2);\n",
    "\n"
   ]
  },
  {
   "cell_type": "code",
   "execution_count": 201,
   "metadata": {},
   "outputs": [
    {
     "name": "stderr",
     "output_type": "stream",
     "text": [
      "<ipython-input-201-d2d7f0a53f92>:1: SettingWithCopyWarning: \n",
      "A value is trying to be set on a copy of a slice from a DataFrame.\n",
      "Try using .loc[row_indexer,col_indexer] = value instead\n",
      "\n",
      "See the caveats in the documentation: https://pandas.pydata.org/pandas-docs/stable/user_guide/indexing.html#returning-a-view-versus-a-copy\n",
      "  bk_pre['cases_shift'] = bk_pre.cases.shift(-4)\n"
     ]
    }
   ],
   "source": [
    "bk_pre['cases_shift'] = bk_pre.cases.shift(-4)"
   ]
  },
  {
   "cell_type": "code",
   "execution_count": 202,
   "metadata": {},
   "outputs": [
    {
     "data": {
      "text/html": [
       "<div>\n",
       "<style scoped>\n",
       "    .dataframe tbody tr th:only-of-type {\n",
       "        vertical-align: middle;\n",
       "    }\n",
       "\n",
       "    .dataframe tbody tr th {\n",
       "        vertical-align: top;\n",
       "    }\n",
       "\n",
       "    .dataframe thead th {\n",
       "        text-align: right;\n",
       "    }\n",
       "</style>\n",
       "<table border=\"1\" class=\"dataframe\">\n",
       "  <thead>\n",
       "    <tr style=\"text-align: right;\">\n",
       "      <th></th>\n",
       "      <th>borough</th>\n",
       "      <th>week_begin</th>\n",
       "      <th>weekly_entries</th>\n",
       "      <th>cases</th>\n",
       "      <th>cases_shift</th>\n",
       "    </tr>\n",
       "  </thead>\n",
       "  <tbody>\n",
       "    <tr>\n",
       "      <th>0</th>\n",
       "      <td>bk</td>\n",
       "      <td>2020-02-24</td>\n",
       "      <td>441.0</td>\n",
       "      <td>0</td>\n",
       "      <td>50.0</td>\n",
       "    </tr>\n",
       "    <tr>\n",
       "      <th>1</th>\n",
       "      <td>bk</td>\n",
       "      <td>2020-03-02</td>\n",
       "      <td>835.0</td>\n",
       "      <td>0</td>\n",
       "      <td>143.0</td>\n",
       "    </tr>\n",
       "    <tr>\n",
       "      <th>2</th>\n",
       "      <td>bk</td>\n",
       "      <td>2020-03-09</td>\n",
       "      <td>651.0</td>\n",
       "      <td>0</td>\n",
       "      <td>178.0</td>\n",
       "    </tr>\n",
       "    <tr>\n",
       "      <th>3</th>\n",
       "      <td>bk</td>\n",
       "      <td>2020-03-16</td>\n",
       "      <td>259.5</td>\n",
       "      <td>6</td>\n",
       "      <td>126.0</td>\n",
       "    </tr>\n",
       "    <tr>\n",
       "      <th>4</th>\n",
       "      <td>bk</td>\n",
       "      <td>2020-03-23</td>\n",
       "      <td>118.5</td>\n",
       "      <td>50</td>\n",
       "      <td>93.0</td>\n",
       "    </tr>\n",
       "  </tbody>\n",
       "</table>\n",
       "</div>"
      ],
      "text/plain": [
       "  borough week_begin  weekly_entries  cases  cases_shift\n",
       "0      bk 2020-02-24           441.0      0         50.0\n",
       "1      bk 2020-03-02           835.0      0        143.0\n",
       "2      bk 2020-03-09           651.0      0        178.0\n",
       "3      bk 2020-03-16           259.5      6        126.0\n",
       "4      bk 2020-03-23           118.5     50         93.0"
      ]
     },
     "execution_count": 202,
     "metadata": {},
     "output_type": "execute_result"
    }
   ],
   "source": [
    "bk_pre_shift = bk_pre[bk_pre['cases_shift'].notnull()]\n",
    "bk_pre_shift.head()"
   ]
  },
  {
   "cell_type": "code",
   "execution_count": 203,
   "metadata": {},
   "outputs": [
    {
     "data": {
      "text/plain": [
       "array([[1.        , 0.77593326],\n",
       "       [0.77593326, 1.        ]])"
      ]
     },
     "execution_count": 203,
     "metadata": {},
     "output_type": "execute_result"
    }
   ],
   "source": [
    "np.corrcoef(bk_pre_shift.weekly_entries, bk_pre_shift.cases_shift)"
   ]
  },
  {
   "cell_type": "code",
   "execution_count": 204,
   "metadata": {},
   "outputs": [
    {
     "name": "stderr",
     "output_type": "stream",
     "text": [
      "<ipython-input-204-bb535434c301>:1: SettingWithCopyWarning: \n",
      "A value is trying to be set on a copy of a slice from a DataFrame.\n",
      "Try using .loc[row_indexer,col_indexer] = value instead\n",
      "\n",
      "See the caveats in the documentation: https://pandas.pydata.org/pandas-docs/stable/user_guide/indexing.html#returning-a-view-versus-a-copy\n",
      "  bk_later['cases_shift'] = bk_later.cases.shift(-1)\n"
     ]
    },
    {
     "data": {
      "text/html": [
       "<div>\n",
       "<style scoped>\n",
       "    .dataframe tbody tr th:only-of-type {\n",
       "        vertical-align: middle;\n",
       "    }\n",
       "\n",
       "    .dataframe tbody tr th {\n",
       "        vertical-align: top;\n",
       "    }\n",
       "\n",
       "    .dataframe thead th {\n",
       "        text-align: right;\n",
       "    }\n",
       "</style>\n",
       "<table border=\"1\" class=\"dataframe\">\n",
       "  <thead>\n",
       "    <tr style=\"text-align: right;\">\n",
       "      <th></th>\n",
       "      <th>borough</th>\n",
       "      <th>week_begin</th>\n",
       "      <th>weekly_entries</th>\n",
       "      <th>cases</th>\n",
       "      <th>cases_shift</th>\n",
       "    </tr>\n",
       "  </thead>\n",
       "  <tbody>\n",
       "    <tr>\n",
       "      <th>14</th>\n",
       "      <td>bk</td>\n",
       "      <td>2020-06-01</td>\n",
       "      <td>133.0</td>\n",
       "      <td>10</td>\n",
       "      <td>6.0</td>\n",
       "    </tr>\n",
       "    <tr>\n",
       "      <th>15</th>\n",
       "      <td>bk</td>\n",
       "      <td>2020-06-08</td>\n",
       "      <td>157.0</td>\n",
       "      <td>6</td>\n",
       "      <td>4.0</td>\n",
       "    </tr>\n",
       "    <tr>\n",
       "      <th>16</th>\n",
       "      <td>bk</td>\n",
       "      <td>2020-06-15</td>\n",
       "      <td>169.0</td>\n",
       "      <td>4</td>\n",
       "      <td>5.0</td>\n",
       "    </tr>\n",
       "    <tr>\n",
       "      <th>17</th>\n",
       "      <td>bk</td>\n",
       "      <td>2020-06-22</td>\n",
       "      <td>189.0</td>\n",
       "      <td>5</td>\n",
       "      <td>3.0</td>\n",
       "    </tr>\n",
       "    <tr>\n",
       "      <th>18</th>\n",
       "      <td>bk</td>\n",
       "      <td>2020-06-29</td>\n",
       "      <td>185.0</td>\n",
       "      <td>3</td>\n",
       "      <td>2.0</td>\n",
       "    </tr>\n",
       "  </tbody>\n",
       "</table>\n",
       "</div>"
      ],
      "text/plain": [
       "   borough week_begin  weekly_entries  cases  cases_shift\n",
       "14      bk 2020-06-01           133.0     10          6.0\n",
       "15      bk 2020-06-08           157.0      6          4.0\n",
       "16      bk 2020-06-15           169.0      4          5.0\n",
       "17      bk 2020-06-22           189.0      5          3.0\n",
       "18      bk 2020-06-29           185.0      3          2.0"
      ]
     },
     "execution_count": 204,
     "metadata": {},
     "output_type": "execute_result"
    }
   ],
   "source": [
    "bk_later['cases_shift'] = bk_later.cases.shift(-1)\n",
    "bk_later.head()"
   ]
  },
  {
   "cell_type": "code",
   "execution_count": 205,
   "metadata": {},
   "outputs": [],
   "source": [
    "bk_later_shift = bk_later[bk_later['cases_shift'].notnull()]"
   ]
  },
  {
   "cell_type": "code",
   "execution_count": 206,
   "metadata": {},
   "outputs": [
    {
     "data": {
      "text/plain": [
       "array([[ 1.        , -0.51652352],\n",
       "       [-0.51652352,  1.        ]])"
      ]
     },
     "execution_count": 206,
     "metadata": {},
     "output_type": "execute_result"
    }
   ],
   "source": [
    "np.corrcoef(bk_later_shift.weekly_entries, bk_later_shift.cases_shift)"
   ]
  },
  {
   "cell_type": "code",
   "execution_count": 207,
   "metadata": {},
   "outputs": [
    {
     "data": {
      "text/plain": [
       "array([[ 1.        , -0.59202475],\n",
       "       [-0.59202475,  1.        ]])"
      ]
     },
     "execution_count": 207,
     "metadata": {},
     "output_type": "execute_result"
    }
   ],
   "source": [
    "np.corrcoef(bk_later.weekly_entries, bk_later.cases)"
   ]
  },
  {
   "cell_type": "code",
   "execution_count": null,
   "metadata": {},
   "outputs": [],
   "source": []
  },
  {
   "cell_type": "code",
   "execution_count": null,
   "metadata": {},
   "outputs": [],
   "source": [
    "#Bronx "
   ]
  },
  {
   "cell_type": "code",
   "execution_count": 211,
   "metadata": {},
   "outputs": [
    {
     "data": {
      "image/png": "[encoded data removed]",
      "text/plain": [
       "<Figure size 1080x360 with 2 Axes>"
      ]
     },
     "metadata": {
      "needs_background": "light"
     },
     "output_type": "display_data"
    }
   ],
   "source": [
    "fig, ax = plt.subplots(figsize = (15,5))\n",
    "line1, = ax.plot(bx.week_begin,bx.weekly_entries, label = 'weekly_entries')\n",
    "ax.set_xlabel(\"Date\")\n",
    "ax.set_ylabel(\"Weekly Entries\")\n",
    "\n",
    "\n",
    "ax2 = ax.twinx()\n",
    "line2, = ax2.plot(bx.week_begin, bx.cases, label = 'weekly_cases', c = 'y')\n",
    "ax2.set_ylabel(\"Weekly Covid Cases\")\n",
    "\n",
    "plt.title(\"Weekly Subway Entries vs. Covid Cases- Bronx\", size = 15, fontweight='bold')\n",
    "fig.legend([line1, line2],['Weekly Entries', 'Weekly Covid Cases'], bbox_to_anchor = [0.9, 0.89],ncol=2);\n",
    "\n"
   ]
  },
  {
   "cell_type": "code",
   "execution_count": 212,
   "metadata": {},
   "outputs": [
    {
     "name": "stderr",
     "output_type": "stream",
     "text": [
      "<ipython-input-212-5c26ecc566df>:1: SettingWithCopyWarning: \n",
      "A value is trying to be set on a copy of a slice from a DataFrame.\n",
      "Try using .loc[row_indexer,col_indexer] = value instead\n",
      "\n",
      "See the caveats in the documentation: https://pandas.pydata.org/pandas-docs/stable/user_guide/indexing.html#returning-a-view-versus-a-copy\n",
      "  bx_pre['cases_shift'] = bx_pre.cases.shift(-4)\n"
     ]
    }
   ],
   "source": [
    "bx_pre['cases_shift'] = bx_pre.cases.shift(-4)"
   ]
  },
  {
   "cell_type": "code",
   "execution_count": 213,
   "metadata": {},
   "outputs": [
    {
     "data": {
      "text/html": [
       "<div>\n",
       "<style scoped>\n",
       "    .dataframe tbody tr th:only-of-type {\n",
       "        vertical-align: middle;\n",
       "    }\n",
       "\n",
       "    .dataframe tbody tr th {\n",
       "        vertical-align: top;\n",
       "    }\n",
       "\n",
       "    .dataframe thead th {\n",
       "        text-align: right;\n",
       "    }\n",
       "</style>\n",
       "<table border=\"1\" class=\"dataframe\">\n",
       "  <thead>\n",
       "    <tr style=\"text-align: right;\">\n",
       "      <th></th>\n",
       "      <th>borough</th>\n",
       "      <th>week_begin</th>\n",
       "      <th>weekly_entries</th>\n",
       "      <th>cases</th>\n",
       "      <th>cases_shift</th>\n",
       "    </tr>\n",
       "  </thead>\n",
       "  <tbody>\n",
       "    <tr>\n",
       "      <th>45</th>\n",
       "      <td>bx</td>\n",
       "      <td>2020-02-24</td>\n",
       "      <td>383.5</td>\n",
       "      <td>0</td>\n",
       "      <td>36.0</td>\n",
       "    </tr>\n",
       "    <tr>\n",
       "      <th>46</th>\n",
       "      <td>bx</td>\n",
       "      <td>2020-03-02</td>\n",
       "      <td>938.0</td>\n",
       "      <td>0</td>\n",
       "      <td>98.0</td>\n",
       "    </tr>\n",
       "    <tr>\n",
       "      <th>47</th>\n",
       "      <td>bx</td>\n",
       "      <td>2020-03-09</td>\n",
       "      <td>993.0</td>\n",
       "      <td>0</td>\n",
       "      <td>114.0</td>\n",
       "    </tr>\n",
       "    <tr>\n",
       "      <th>48</th>\n",
       "      <td>bx</td>\n",
       "      <td>2020-03-16</td>\n",
       "      <td>509.0</td>\n",
       "      <td>4</td>\n",
       "      <td>88.0</td>\n",
       "    </tr>\n",
       "    <tr>\n",
       "      <th>49</th>\n",
       "      <td>bx</td>\n",
       "      <td>2020-03-23</td>\n",
       "      <td>275.0</td>\n",
       "      <td>36</td>\n",
       "      <td>62.0</td>\n",
       "    </tr>\n",
       "  </tbody>\n",
       "</table>\n",
       "</div>"
      ],
      "text/plain": [
       "   borough week_begin  weekly_entries  cases  cases_shift\n",
       "45      bx 2020-02-24           383.5      0         36.0\n",
       "46      bx 2020-03-02           938.0      0         98.0\n",
       "47      bx 2020-03-09           993.0      0        114.0\n",
       "48      bx 2020-03-16           509.0      4         88.0\n",
       "49      bx 2020-03-23           275.0     36         62.0"
      ]
     },
     "execution_count": 213,
     "metadata": {},
     "output_type": "execute_result"
    }
   ],
   "source": [
    "bx_pre_shift = bx_pre[bx_pre['cases_shift'].notnull()]\n",
    "bx_pre_shift.head()"
   ]
  },
  {
   "cell_type": "code",
   "execution_count": 214,
   "metadata": {},
   "outputs": [
    {
     "data": {
      "text/plain": [
       "array([[1.        , 0.89210666],\n",
       "       [0.89210666, 1.        ]])"
      ]
     },
     "execution_count": 214,
     "metadata": {},
     "output_type": "execute_result"
    }
   ],
   "source": [
    "np.corrcoef(bx_pre_shift.weekly_entries, bx_pre_shift.cases_shift)"
   ]
  },
  {
   "cell_type": "code",
   "execution_count": 221,
   "metadata": {},
   "outputs": [
    {
     "name": "stderr",
     "output_type": "stream",
     "text": [
      "<ipython-input-221-42847dcbbfac>:1: SettingWithCopyWarning: \n",
      "A value is trying to be set on a copy of a slice from a DataFrame.\n",
      "Try using .loc[row_indexer,col_indexer] = value instead\n",
      "\n",
      "See the caveats in the documentation: https://pandas.pydata.org/pandas-docs/stable/user_guide/indexing.html#returning-a-view-versus-a-copy\n",
      "  bx_later['cases_shift'] = bx_later.cases.shift(-1)\n"
     ]
    },
    {
     "data": {
      "text/html": [
       "<div>\n",
       "<style scoped>\n",
       "    .dataframe tbody tr th:only-of-type {\n",
       "        vertical-align: middle;\n",
       "    }\n",
       "\n",
       "    .dataframe tbody tr th {\n",
       "        vertical-align: top;\n",
       "    }\n",
       "\n",
       "    .dataframe thead th {\n",
       "        text-align: right;\n",
       "    }\n",
       "</style>\n",
       "<table border=\"1\" class=\"dataframe\">\n",
       "  <thead>\n",
       "    <tr style=\"text-align: right;\">\n",
       "      <th></th>\n",
       "      <th>borough</th>\n",
       "      <th>week_begin</th>\n",
       "      <th>weekly_entries</th>\n",
       "      <th>cases</th>\n",
       "      <th>cases_shift</th>\n",
       "    </tr>\n",
       "  </thead>\n",
       "  <tbody>\n",
       "    <tr>\n",
       "      <th>59</th>\n",
       "      <td>bx</td>\n",
       "      <td>2020-06-01</td>\n",
       "      <td>277.0</td>\n",
       "      <td>8</td>\n",
       "      <td>6.0</td>\n",
       "    </tr>\n",
       "    <tr>\n",
       "      <th>60</th>\n",
       "      <td>bx</td>\n",
       "      <td>2020-06-08</td>\n",
       "      <td>319.5</td>\n",
       "      <td>6</td>\n",
       "      <td>3.0</td>\n",
       "    </tr>\n",
       "    <tr>\n",
       "      <th>61</th>\n",
       "      <td>bx</td>\n",
       "      <td>2020-06-15</td>\n",
       "      <td>333.0</td>\n",
       "      <td>3</td>\n",
       "      <td>3.0</td>\n",
       "    </tr>\n",
       "    <tr>\n",
       "      <th>62</th>\n",
       "      <td>bx</td>\n",
       "      <td>2020-06-22</td>\n",
       "      <td>361.0</td>\n",
       "      <td>3</td>\n",
       "      <td>2.0</td>\n",
       "    </tr>\n",
       "    <tr>\n",
       "      <th>63</th>\n",
       "      <td>bx</td>\n",
       "      <td>2020-06-29</td>\n",
       "      <td>345.5</td>\n",
       "      <td>2</td>\n",
       "      <td>1.0</td>\n",
       "    </tr>\n",
       "  </tbody>\n",
       "</table>\n",
       "</div>"
      ],
      "text/plain": [
       "   borough week_begin  weekly_entries  cases  cases_shift\n",
       "59      bx 2020-06-01           277.0      8          6.0\n",
       "60      bx 2020-06-08           319.5      6          3.0\n",
       "61      bx 2020-06-15           333.0      3          3.0\n",
       "62      bx 2020-06-22           361.0      3          2.0\n",
       "63      bx 2020-06-29           345.5      2          1.0"
      ]
     },
     "execution_count": 221,
     "metadata": {},
     "output_type": "execute_result"
    }
   ],
   "source": [
    "bx_later['cases_shift'] = bx_later.cases.shift(-1)\n",
    "bx_later.head()"
   ]
  },
  {
   "cell_type": "code",
   "execution_count": 222,
   "metadata": {},
   "outputs": [],
   "source": [
    "bx_later_shift = bx_later[bx_later['cases_shift'].notnull()]"
   ]
  },
  {
   "cell_type": "code",
   "execution_count": 223,
   "metadata": {},
   "outputs": [
    {
     "data": {
      "text/plain": [
       "array([[ 1.        , -0.60193708],\n",
       "       [-0.60193708,  1.        ]])"
      ]
     },
     "execution_count": 223,
     "metadata": {},
     "output_type": "execute_result"
    }
   ],
   "source": [
    "np.corrcoef(bx_later_shift.weekly_entries, bx_later_shift.cases_shift)"
   ]
  },
  {
   "cell_type": "code",
   "execution_count": null,
   "metadata": {},
   "outputs": [],
   "source": []
  },
  {
   "cell_type": "code",
   "execution_count": null,
   "metadata": {},
   "outputs": [],
   "source": [
    "#Manhattan "
   ]
  },
  {
   "cell_type": "code",
   "execution_count": 224,
   "metadata": {},
   "outputs": [
    {
     "data": {
      "image/png": "[encoded data removed]",
      "text/plain": [
       "<Figure size 1080x360 with 2 Axes>"
      ]
     },
     "metadata": {
      "needs_background": "light"
     },
     "output_type": "display_data"
    }
   ],
   "source": [
    "fig, ax = plt.subplots(figsize = (15,5))\n",
    "line1, = ax.plot(m.week_begin,m.weekly_entries, label = 'weekly_entries')\n",
    "ax.set_xlabel(\"Date\")\n",
    "ax.set_ylabel(\"Weekly Entries\")\n",
    "\n",
    "\n",
    "ax2 = ax.twinx()\n",
    "line2, = ax2.plot(m.week_begin, m.cases, label = 'weekly_cases', c = 'y')\n",
    "ax2.set_ylabel(\"Weekly Covid Cases\")\n",
    "\n",
    "plt.title(\"Weekly Subway Entries vs. Covid Cases- Manhattan\", size = 15, fontweight='bold')\n",
    "fig.legend([line1, line2],['Weekly Entries', 'Weekly Covid Cases'], bbox_to_anchor = [0.9, 0.89],ncol=2);\n"
   ]
  },
  {
   "cell_type": "code",
   "execution_count": 225,
   "metadata": {},
   "outputs": [
    {
     "name": "stderr",
     "output_type": "stream",
     "text": [
      "<ipython-input-225-78ac91ac1c6b>:1: SettingWithCopyWarning: \n",
      "A value is trying to be set on a copy of a slice from a DataFrame.\n",
      "Try using .loc[row_indexer,col_indexer] = value instead\n",
      "\n",
      "See the caveats in the documentation: https://pandas.pydata.org/pandas-docs/stable/user_guide/indexing.html#returning-a-view-versus-a-copy\n",
      "  m_pre['cases_shift'] = m_pre.cases.shift(-4)\n"
     ]
    }
   ],
   "source": [
    "m_pre['cases_shift'] = m_pre.cases.shift(-4)"
   ]
  },
  {
   "cell_type": "code",
   "execution_count": 227,
   "metadata": {},
   "outputs": [
    {
     "data": {
      "text/html": [
       "<div>\n",
       "<style scoped>\n",
       "    .dataframe tbody tr th:only-of-type {\n",
       "        vertical-align: middle;\n",
       "    }\n",
       "\n",
       "    .dataframe tbody tr th {\n",
       "        vertical-align: top;\n",
       "    }\n",
       "\n",
       "    .dataframe thead th {\n",
       "        text-align: right;\n",
       "    }\n",
       "</style>\n",
       "<table border=\"1\" class=\"dataframe\">\n",
       "  <thead>\n",
       "    <tr style=\"text-align: right;\">\n",
       "      <th></th>\n",
       "      <th>borough</th>\n",
       "      <th>week_begin</th>\n",
       "      <th>weekly_entries</th>\n",
       "      <th>cases</th>\n",
       "      <th>cases_shift</th>\n",
       "    </tr>\n",
       "  </thead>\n",
       "  <tbody>\n",
       "    <tr>\n",
       "      <th>90</th>\n",
       "      <td>m</td>\n",
       "      <td>2020-02-24</td>\n",
       "      <td>548.0</td>\n",
       "      <td>0</td>\n",
       "      <td>28.0</td>\n",
       "    </tr>\n",
       "    <tr>\n",
       "      <th>91</th>\n",
       "      <td>m</td>\n",
       "      <td>2020-03-02</td>\n",
       "      <td>1145.0</td>\n",
       "      <td>0</td>\n",
       "      <td>59.0</td>\n",
       "    </tr>\n",
       "    <tr>\n",
       "      <th>92</th>\n",
       "      <td>m</td>\n",
       "      <td>2020-03-09</td>\n",
       "      <td>715.0</td>\n",
       "      <td>0</td>\n",
       "      <td>66.0</td>\n",
       "    </tr>\n",
       "    <tr>\n",
       "      <th>93</th>\n",
       "      <td>m</td>\n",
       "      <td>2020-03-16</td>\n",
       "      <td>189.5</td>\n",
       "      <td>4</td>\n",
       "      <td>55.0</td>\n",
       "    </tr>\n",
       "    <tr>\n",
       "      <th>94</th>\n",
       "      <td>m</td>\n",
       "      <td>2020-03-23</td>\n",
       "      <td>76.0</td>\n",
       "      <td>28</td>\n",
       "      <td>47.0</td>\n",
       "    </tr>\n",
       "  </tbody>\n",
       "</table>\n",
       "</div>"
      ],
      "text/plain": [
       "   borough week_begin  weekly_entries  cases  cases_shift\n",
       "90       m 2020-02-24           548.0      0         28.0\n",
       "91       m 2020-03-02          1145.0      0         59.0\n",
       "92       m 2020-03-09           715.0      0         66.0\n",
       "93       m 2020-03-16           189.5      4         55.0\n",
       "94       m 2020-03-23            76.0     28         47.0"
      ]
     },
     "execution_count": 227,
     "metadata": {},
     "output_type": "execute_result"
    }
   ],
   "source": [
    "m_pre_shift = m_pre[m_pre['cases_shift'].notnull()]\n",
    "m_pre_shift.head()"
   ]
  },
  {
   "cell_type": "code",
   "execution_count": 228,
   "metadata": {},
   "outputs": [
    {
     "data": {
      "text/plain": [
       "array([[1.        , 0.66389027],\n",
       "       [0.66389027, 1.        ]])"
      ]
     },
     "execution_count": 228,
     "metadata": {},
     "output_type": "execute_result"
    }
   ],
   "source": [
    "np.corrcoef(m_pre_shift.weekly_entries, m_pre_shift.cases_shift)"
   ]
  },
  {
   "cell_type": "code",
   "execution_count": 229,
   "metadata": {},
   "outputs": [
    {
     "name": "stderr",
     "output_type": "stream",
     "text": [
      "<ipython-input-229-7178b86991b0>:1: SettingWithCopyWarning: \n",
      "A value is trying to be set on a copy of a slice from a DataFrame.\n",
      "Try using .loc[row_indexer,col_indexer] = value instead\n",
      "\n",
      "See the caveats in the documentation: https://pandas.pydata.org/pandas-docs/stable/user_guide/indexing.html#returning-a-view-versus-a-copy\n",
      "  m_later['cases_shift'] = m_later.cases.shift(-1)\n"
     ]
    },
    {
     "data": {
      "text/html": [
       "<div>\n",
       "<style scoped>\n",
       "    .dataframe tbody tr th:only-of-type {\n",
       "        vertical-align: middle;\n",
       "    }\n",
       "\n",
       "    .dataframe tbody tr th {\n",
       "        vertical-align: top;\n",
       "    }\n",
       "\n",
       "    .dataframe thead th {\n",
       "        text-align: right;\n",
       "    }\n",
       "</style>\n",
       "<table border=\"1\" class=\"dataframe\">\n",
       "  <thead>\n",
       "    <tr style=\"text-align: right;\">\n",
       "      <th></th>\n",
       "      <th>borough</th>\n",
       "      <th>week_begin</th>\n",
       "      <th>weekly_entries</th>\n",
       "      <th>cases</th>\n",
       "      <th>cases_shift</th>\n",
       "    </tr>\n",
       "  </thead>\n",
       "  <tbody>\n",
       "    <tr>\n",
       "      <th>104</th>\n",
       "      <td>m</td>\n",
       "      <td>2020-06-01</td>\n",
       "      <td>85.0</td>\n",
       "      <td>7</td>\n",
       "      <td>2.0</td>\n",
       "    </tr>\n",
       "    <tr>\n",
       "      <th>105</th>\n",
       "      <td>m</td>\n",
       "      <td>2020-06-08</td>\n",
       "      <td>104.0</td>\n",
       "      <td>2</td>\n",
       "      <td>3.0</td>\n",
       "    </tr>\n",
       "    <tr>\n",
       "      <th>106</th>\n",
       "      <td>m</td>\n",
       "      <td>2020-06-15</td>\n",
       "      <td>115.0</td>\n",
       "      <td>3</td>\n",
       "      <td>2.0</td>\n",
       "    </tr>\n",
       "    <tr>\n",
       "      <th>107</th>\n",
       "      <td>m</td>\n",
       "      <td>2020-06-22</td>\n",
       "      <td>138.0</td>\n",
       "      <td>2</td>\n",
       "      <td>1.0</td>\n",
       "    </tr>\n",
       "    <tr>\n",
       "      <th>108</th>\n",
       "      <td>m</td>\n",
       "      <td>2020-06-29</td>\n",
       "      <td>131.0</td>\n",
       "      <td>1</td>\n",
       "      <td>1.0</td>\n",
       "    </tr>\n",
       "  </tbody>\n",
       "</table>\n",
       "</div>"
      ],
      "text/plain": [
       "    borough week_begin  weekly_entries  cases  cases_shift\n",
       "104       m 2020-06-01            85.0      7          2.0\n",
       "105       m 2020-06-08           104.0      2          3.0\n",
       "106       m 2020-06-15           115.0      3          2.0\n",
       "107       m 2020-06-22           138.0      2          1.0\n",
       "108       m 2020-06-29           131.0      1          1.0"
      ]
     },
     "execution_count": 229,
     "metadata": {},
     "output_type": "execute_result"
    }
   ],
   "source": [
    "m_later['cases_shift'] = m_later.cases.shift(-1)\n",
    "m_later.head()"
   ]
  },
  {
   "cell_type": "code",
   "execution_count": 230,
   "metadata": {},
   "outputs": [],
   "source": [
    "m_later_shift = m_later[m_later['cases_shift'].notnull()]"
   ]
  },
  {
   "cell_type": "code",
   "execution_count": 231,
   "metadata": {},
   "outputs": [
    {
     "data": {
      "text/plain": [
       "array([[ 1.        , -0.65675552],\n",
       "       [-0.65675552,  1.        ]])"
      ]
     },
     "execution_count": 231,
     "metadata": {},
     "output_type": "execute_result"
    }
   ],
   "source": [
    "np.corrcoef(m_later_shift.weekly_entries, m_later_shift.cases_shift)"
   ]
  },
  {
   "cell_type": "code",
   "execution_count": null,
   "metadata": {},
   "outputs": [],
   "source": []
  },
  {
   "cell_type": "code",
   "execution_count": null,
   "metadata": {},
   "outputs": [],
   "source": [
    "#Queens"
   ]
  },
  {
   "cell_type": "code",
   "execution_count": 232,
   "metadata": {},
   "outputs": [
    {
     "data": {
      "image/png": "[encoded data removed]",
      "text/plain": [
       "<Figure size 1080x360 with 2 Axes>"
      ]
     },
     "metadata": {
      "needs_background": "light"
     },
     "output_type": "display_data"
    }
   ],
   "source": [
    "fig, ax = plt.subplots(figsize = (15,5))\n",
    "line1, = ax.plot(q.week_begin,q.weekly_entries, label = 'weekly_entries')\n",
    "ax.set_xlabel(\"Date\")\n",
    "ax.set_ylabel(\"Weekly Entries\")\n",
    "\n",
    "\n",
    "ax2 = ax.twinx()\n",
    "line2, = ax2.plot(q.week_begin, q.cases, label = 'weekly_cases', c = 'y')\n",
    "ax2.set_ylabel(\"Weekly Covid Cases\")\n",
    "\n",
    "plt.title(\"Weekly Subway Entries vs. Covid Cases- Queens\", size = 15, fontweight='bold')\n",
    "fig.legend([line1, line2],['Weekly Entries', 'Weekly Covid Cases'], bbox_to_anchor = [0.9, 0.89],ncol=2);\n"
   ]
  },
  {
   "cell_type": "code",
   "execution_count": 233,
   "metadata": {},
   "outputs": [
    {
     "name": "stderr",
     "output_type": "stream",
     "text": [
      "<ipython-input-233-06c7e9d6f0e0>:1: SettingWithCopyWarning: \n",
      "A value is trying to be set on a copy of a slice from a DataFrame.\n",
      "Try using .loc[row_indexer,col_indexer] = value instead\n",
      "\n",
      "See the caveats in the documentation: https://pandas.pydata.org/pandas-docs/stable/user_guide/indexing.html#returning-a-view-versus-a-copy\n",
      "  q_pre['cases_shift'] = q_pre.cases.shift(-4)\n"
     ]
    }
   ],
   "source": [
    "q_pre['cases_shift'] = q_pre.cases.shift(-4)"
   ]
  },
  {
   "cell_type": "code",
   "execution_count": 235,
   "metadata": {},
   "outputs": [
    {
     "data": {
      "text/html": [
       "<div>\n",
       "<style scoped>\n",
       "    .dataframe tbody tr th:only-of-type {\n",
       "        vertical-align: middle;\n",
       "    }\n",
       "\n",
       "    .dataframe tbody tr th {\n",
       "        vertical-align: top;\n",
       "    }\n",
       "\n",
       "    .dataframe thead th {\n",
       "        text-align: right;\n",
       "    }\n",
       "</style>\n",
       "<table border=\"1\" class=\"dataframe\">\n",
       "  <thead>\n",
       "    <tr style=\"text-align: right;\">\n",
       "      <th></th>\n",
       "      <th>borough</th>\n",
       "      <th>week_begin</th>\n",
       "      <th>weekly_entries</th>\n",
       "      <th>cases</th>\n",
       "      <th>cases_shift</th>\n",
       "    </tr>\n",
       "  </thead>\n",
       "  <tbody>\n",
       "    <tr>\n",
       "      <th>135</th>\n",
       "      <td>q</td>\n",
       "      <td>2020-02-24</td>\n",
       "      <td>227.0</td>\n",
       "      <td>0</td>\n",
       "      <td>58.0</td>\n",
       "    </tr>\n",
       "    <tr>\n",
       "      <th>136</th>\n",
       "      <td>q</td>\n",
       "      <td>2020-03-02</td>\n",
       "      <td>591.0</td>\n",
       "      <td>0</td>\n",
       "      <td>144.0</td>\n",
       "    </tr>\n",
       "    <tr>\n",
       "      <th>137</th>\n",
       "      <td>q</td>\n",
       "      <td>2020-03-09</td>\n",
       "      <td>687.5</td>\n",
       "      <td>0</td>\n",
       "      <td>174.0</td>\n",
       "    </tr>\n",
       "    <tr>\n",
       "      <th>138</th>\n",
       "      <td>q</td>\n",
       "      <td>2020-03-16</td>\n",
       "      <td>287.0</td>\n",
       "      <td>9</td>\n",
       "      <td>136.0</td>\n",
       "    </tr>\n",
       "    <tr>\n",
       "      <th>139</th>\n",
       "      <td>q</td>\n",
       "      <td>2020-03-23</td>\n",
       "      <td>122.0</td>\n",
       "      <td>58</td>\n",
       "      <td>98.0</td>\n",
       "    </tr>\n",
       "  </tbody>\n",
       "</table>\n",
       "</div>"
      ],
      "text/plain": [
       "    borough week_begin  weekly_entries  cases  cases_shift\n",
       "135       q 2020-02-24           227.0      0         58.0\n",
       "136       q 2020-03-02           591.0      0        144.0\n",
       "137       q 2020-03-09           687.5      0        174.0\n",
       "138       q 2020-03-16           287.0      9        136.0\n",
       "139       q 2020-03-23           122.0     58         98.0"
      ]
     },
     "execution_count": 235,
     "metadata": {},
     "output_type": "execute_result"
    }
   ],
   "source": [
    "q_pre_shift = q_pre[q_pre['cases_shift'].notnull()]\n",
    "q_pre_shift.head()"
   ]
  },
  {
   "cell_type": "code",
   "execution_count": 236,
   "metadata": {},
   "outputs": [
    {
     "data": {
      "text/plain": [
       "array([[1.        , 0.86067409],\n",
       "       [0.86067409, 1.        ]])"
      ]
     },
     "execution_count": 236,
     "metadata": {},
     "output_type": "execute_result"
    }
   ],
   "source": [
    "np.corrcoef(q_pre_shift.weekly_entries, q_pre_shift.cases_shift)"
   ]
  },
  {
   "cell_type": "code",
   "execution_count": 237,
   "metadata": {},
   "outputs": [
    {
     "name": "stderr",
     "output_type": "stream",
     "text": [
      "<ipython-input-237-7c8c472b6ab4>:1: SettingWithCopyWarning: \n",
      "A value is trying to be set on a copy of a slice from a DataFrame.\n",
      "Try using .loc[row_indexer,col_indexer] = value instead\n",
      "\n",
      "See the caveats in the documentation: https://pandas.pydata.org/pandas-docs/stable/user_guide/indexing.html#returning-a-view-versus-a-copy\n",
      "  q_later['cases_shift'] = q_later.cases.shift(-1)\n"
     ]
    },
    {
     "data": {
      "text/html": [
       "<div>\n",
       "<style scoped>\n",
       "    .dataframe tbody tr th:only-of-type {\n",
       "        vertical-align: middle;\n",
       "    }\n",
       "\n",
       "    .dataframe tbody tr th {\n",
       "        vertical-align: top;\n",
       "    }\n",
       "\n",
       "    .dataframe thead th {\n",
       "        text-align: right;\n",
       "    }\n",
       "</style>\n",
       "<table border=\"1\" class=\"dataframe\">\n",
       "  <thead>\n",
       "    <tr style=\"text-align: right;\">\n",
       "      <th></th>\n",
       "      <th>borough</th>\n",
       "      <th>week_begin</th>\n",
       "      <th>weekly_entries</th>\n",
       "      <th>cases</th>\n",
       "      <th>cases_shift</th>\n",
       "    </tr>\n",
       "  </thead>\n",
       "  <tbody>\n",
       "    <tr>\n",
       "      <th>149</th>\n",
       "      <td>q</td>\n",
       "      <td>2020-06-01</td>\n",
       "      <td>141.0</td>\n",
       "      <td>10</td>\n",
       "      <td>9.0</td>\n",
       "    </tr>\n",
       "    <tr>\n",
       "      <th>150</th>\n",
       "      <td>q</td>\n",
       "      <td>2020-06-08</td>\n",
       "      <td>170.0</td>\n",
       "      <td>9</td>\n",
       "      <td>6.0</td>\n",
       "    </tr>\n",
       "    <tr>\n",
       "      <th>151</th>\n",
       "      <td>q</td>\n",
       "      <td>2020-06-15</td>\n",
       "      <td>179.5</td>\n",
       "      <td>6</td>\n",
       "      <td>4.0</td>\n",
       "    </tr>\n",
       "    <tr>\n",
       "      <th>152</th>\n",
       "      <td>q</td>\n",
       "      <td>2020-06-22</td>\n",
       "      <td>197.0</td>\n",
       "      <td>4</td>\n",
       "      <td>3.0</td>\n",
       "    </tr>\n",
       "    <tr>\n",
       "      <th>153</th>\n",
       "      <td>q</td>\n",
       "      <td>2020-06-29</td>\n",
       "      <td>201.0</td>\n",
       "      <td>3</td>\n",
       "      <td>1.0</td>\n",
       "    </tr>\n",
       "  </tbody>\n",
       "</table>\n",
       "</div>"
      ],
      "text/plain": [
       "    borough week_begin  weekly_entries  cases  cases_shift\n",
       "149       q 2020-06-01           141.0     10          9.0\n",
       "150       q 2020-06-08           170.0      9          6.0\n",
       "151       q 2020-06-15           179.5      6          4.0\n",
       "152       q 2020-06-22           197.0      4          3.0\n",
       "153       q 2020-06-29           201.0      3          1.0"
      ]
     },
     "execution_count": 237,
     "metadata": {},
     "output_type": "execute_result"
    }
   ],
   "source": [
    "q_later['cases_shift'] = q_later.cases.shift(-1)\n",
    "q_later.head()"
   ]
  },
  {
   "cell_type": "code",
   "execution_count": 238,
   "metadata": {},
   "outputs": [],
   "source": [
    "q_later_shift = q_later[q_later['cases_shift'].notnull()]"
   ]
  },
  {
   "cell_type": "code",
   "execution_count": 239,
   "metadata": {},
   "outputs": [
    {
     "data": {
      "text/plain": [
       "array([[ 1.       , -0.7202766],\n",
       "       [-0.7202766,  1.       ]])"
      ]
     },
     "execution_count": 239,
     "metadata": {},
     "output_type": "execute_result"
    }
   ],
   "source": [
    "np.corrcoef(q_later_shift.weekly_entries, q_later_shift.cases_shift)"
   ]
  },
  {
   "cell_type": "code",
   "execution_count": null,
   "metadata": {},
   "outputs": [],
   "source": []
  },
  {
   "cell_type": "code",
   "execution_count": null,
   "metadata": {},
   "outputs": [],
   "source": [
    "#Staten Island "
   ]
  },
  {
   "cell_type": "code",
   "execution_count": 241,
   "metadata": {},
   "outputs": [
    {
     "data": {
      "image/png": "[encoded data removed]",
      "text/plain": [
       "<Figure size 1080x360 with 2 Axes>"
      ]
     },
     "metadata": {
      "needs_background": "light"
     },
     "output_type": "display_data"
    }
   ],
   "source": [
    "fig, ax = plt.subplots(figsize = (15,5))\n",
    "line1, = ax.plot(si.week_begin,si.weekly_entries, label = 'weekly_entries')\n",
    "ax.set_xlabel(\"Date\")\n",
    "ax.set_ylabel(\"Weekly Entries\")\n",
    "\n",
    "\n",
    "ax2 = ax.twinx()\n",
    "line2, = ax2.plot(si.week_begin, si.cases, label = 'weekly_cases', c = 'y')\n",
    "ax2.set_ylabel(\"Weekly Covid Cases\")\n",
    "\n",
    "plt.title(\"Weekly Subway Entries vs. Covid Cases- Staten Island\", size = 15, fontweight='bold')\n",
    "fig.legend([line1, line2],['Weekly Entries', 'Weekly Covid Cases'], bbox_to_anchor = [0.9, 0.89],ncol=2);\n"
   ]
  },
  {
   "cell_type": "code",
   "execution_count": 242,
   "metadata": {},
   "outputs": [
    {
     "name": "stderr",
     "output_type": "stream",
     "text": [
      "<ipython-input-242-65a129d7cb13>:1: SettingWithCopyWarning: \n",
      "A value is trying to be set on a copy of a slice from a DataFrame.\n",
      "Try using .loc[row_indexer,col_indexer] = value instead\n",
      "\n",
      "See the caveats in the documentation: https://pandas.pydata.org/pandas-docs/stable/user_guide/indexing.html#returning-a-view-versus-a-copy\n",
      "  si_pre['cases_shift'] = si_pre.cases.shift(-4)\n"
     ]
    }
   ],
   "source": [
    "si_pre['cases_shift'] = si_pre.cases.shift(-4)"
   ]
  },
  {
   "cell_type": "code",
   "execution_count": 243,
   "metadata": {},
   "outputs": [
    {
     "data": {
      "text/html": [
       "<div>\n",
       "<style scoped>\n",
       "    .dataframe tbody tr th:only-of-type {\n",
       "        vertical-align: middle;\n",
       "    }\n",
       "\n",
       "    .dataframe tbody tr th {\n",
       "        vertical-align: top;\n",
       "    }\n",
       "\n",
       "    .dataframe thead th {\n",
       "        text-align: right;\n",
       "    }\n",
       "</style>\n",
       "<table border=\"1\" class=\"dataframe\">\n",
       "  <thead>\n",
       "    <tr style=\"text-align: right;\">\n",
       "      <th></th>\n",
       "      <th>borough</th>\n",
       "      <th>week_begin</th>\n",
       "      <th>weekly_entries</th>\n",
       "      <th>cases</th>\n",
       "      <th>cases_shift</th>\n",
       "    </tr>\n",
       "  </thead>\n",
       "  <tbody>\n",
       "    <tr>\n",
       "      <th>180</th>\n",
       "      <td>si</td>\n",
       "      <td>2020-03-09</td>\n",
       "      <td>314.0</td>\n",
       "      <td>0</td>\n",
       "      <td>26.0</td>\n",
       "    </tr>\n",
       "    <tr>\n",
       "      <th>181</th>\n",
       "      <td>si</td>\n",
       "      <td>2020-03-16</td>\n",
       "      <td>109.0</td>\n",
       "      <td>1</td>\n",
       "      <td>19.0</td>\n",
       "    </tr>\n",
       "    <tr>\n",
       "      <th>182</th>\n",
       "      <td>si</td>\n",
       "      <td>2020-03-23</td>\n",
       "      <td>46.0</td>\n",
       "      <td>8</td>\n",
       "      <td>13.0</td>\n",
       "    </tr>\n",
       "    <tr>\n",
       "      <th>183</th>\n",
       "      <td>si</td>\n",
       "      <td>2020-03-30</td>\n",
       "      <td>28.0</td>\n",
       "      <td>22</td>\n",
       "      <td>11.0</td>\n",
       "    </tr>\n",
       "    <tr>\n",
       "      <th>184</th>\n",
       "      <td>si</td>\n",
       "      <td>2020-04-06</td>\n",
       "      <td>21.5</td>\n",
       "      <td>26</td>\n",
       "      <td>8.0</td>\n",
       "    </tr>\n",
       "  </tbody>\n",
       "</table>\n",
       "</div>"
      ],
      "text/plain": [
       "    borough week_begin  weekly_entries  cases  cases_shift\n",
       "180      si 2020-03-09           314.0      0         26.0\n",
       "181      si 2020-03-16           109.0      1         19.0\n",
       "182      si 2020-03-23            46.0      8         13.0\n",
       "183      si 2020-03-30            28.0     22         11.0\n",
       "184      si 2020-04-06            21.5     26          8.0"
      ]
     },
     "execution_count": 243,
     "metadata": {},
     "output_type": "execute_result"
    }
   ],
   "source": [
    "si_pre_shift = si_pre[si_pre['cases_shift'].notnull()]\n",
    "si_pre_shift.head()"
   ]
  },
  {
   "cell_type": "code",
   "execution_count": 244,
   "metadata": {},
   "outputs": [
    {
     "data": {
      "text/plain": [
       "array([[1.        , 0.88306893],\n",
       "       [0.88306893, 1.        ]])"
      ]
     },
     "execution_count": 244,
     "metadata": {},
     "output_type": "execute_result"
    }
   ],
   "source": [
    "np.corrcoef(si_pre_shift.weekly_entries, si_pre_shift.cases_shift)"
   ]
  },
  {
   "cell_type": "code",
   "execution_count": 245,
   "metadata": {},
   "outputs": [
    {
     "name": "stderr",
     "output_type": "stream",
     "text": [
      "<ipython-input-245-26c6c2296ced>:1: SettingWithCopyWarning: \n",
      "A value is trying to be set on a copy of a slice from a DataFrame.\n",
      "Try using .loc[row_indexer,col_indexer] = value instead\n",
      "\n",
      "See the caveats in the documentation: https://pandas.pydata.org/pandas-docs/stable/user_guide/indexing.html#returning-a-view-versus-a-copy\n",
      "  si_later['cases_shift'] = si_later.cases.shift(-1)\n"
     ]
    },
    {
     "data": {
      "text/html": [
       "<div>\n",
       "<style scoped>\n",
       "    .dataframe tbody tr th:only-of-type {\n",
       "        vertical-align: middle;\n",
       "    }\n",
       "\n",
       "    .dataframe tbody tr th {\n",
       "        vertical-align: top;\n",
       "    }\n",
       "\n",
       "    .dataframe thead th {\n",
       "        text-align: right;\n",
       "    }\n",
       "</style>\n",
       "<table border=\"1\" class=\"dataframe\">\n",
       "  <thead>\n",
       "    <tr style=\"text-align: right;\">\n",
       "      <th></th>\n",
       "      <th>borough</th>\n",
       "      <th>week_begin</th>\n",
       "      <th>weekly_entries</th>\n",
       "      <th>cases</th>\n",
       "      <th>cases_shift</th>\n",
       "    </tr>\n",
       "  </thead>\n",
       "  <tbody>\n",
       "    <tr>\n",
       "      <th>192</th>\n",
       "      <td>si</td>\n",
       "      <td>2020-06-01</td>\n",
       "      <td>40.0</td>\n",
       "      <td>1</td>\n",
       "      <td>1.0</td>\n",
       "    </tr>\n",
       "    <tr>\n",
       "      <th>193</th>\n",
       "      <td>si</td>\n",
       "      <td>2020-06-08</td>\n",
       "      <td>49.0</td>\n",
       "      <td>1</td>\n",
       "      <td>2.0</td>\n",
       "    </tr>\n",
       "    <tr>\n",
       "      <th>194</th>\n",
       "      <td>si</td>\n",
       "      <td>2020-06-15</td>\n",
       "      <td>56.0</td>\n",
       "      <td>2</td>\n",
       "      <td>1.0</td>\n",
       "    </tr>\n",
       "    <tr>\n",
       "      <th>195</th>\n",
       "      <td>si</td>\n",
       "      <td>2020-06-22</td>\n",
       "      <td>58.5</td>\n",
       "      <td>1</td>\n",
       "      <td>1.0</td>\n",
       "    </tr>\n",
       "    <tr>\n",
       "      <th>196</th>\n",
       "      <td>si</td>\n",
       "      <td>2020-06-29</td>\n",
       "      <td>53.0</td>\n",
       "      <td>1</td>\n",
       "      <td>0.0</td>\n",
       "    </tr>\n",
       "  </tbody>\n",
       "</table>\n",
       "</div>"
      ],
      "text/plain": [
       "    borough week_begin  weekly_entries  cases  cases_shift\n",
       "192      si 2020-06-01            40.0      1          1.0\n",
       "193      si 2020-06-08            49.0      1          2.0\n",
       "194      si 2020-06-15            56.0      2          1.0\n",
       "195      si 2020-06-22            58.5      1          1.0\n",
       "196      si 2020-06-29            53.0      1          0.0"
      ]
     },
     "execution_count": 245,
     "metadata": {},
     "output_type": "execute_result"
    }
   ],
   "source": [
    "si_later['cases_shift'] = si_later.cases.shift(-1)\n",
    "si_later.head()"
   ]
  },
  {
   "cell_type": "code",
   "execution_count": 246,
   "metadata": {},
   "outputs": [],
   "source": [
    "si_later_shift = si_later[si_later['cases_shift'].notnull()]"
   ]
  },
  {
   "cell_type": "code",
   "execution_count": 247,
   "metadata": {},
   "outputs": [
    {
     "data": {
      "text/plain": [
       "array([[ 1.        , -0.43476323],\n",
       "       [-0.43476323,  1.        ]])"
      ]
     },
     "execution_count": 247,
     "metadata": {},
     "output_type": "execute_result"
    }
   ],
   "source": [
    "np.corrcoef(si_later_shift.weekly_entries, si_later_shift.cases_shift)"
   ]
  },
  {
   "cell_type": "markdown",
   "metadata": {},
   "source": [
    "### Insights Highligt\n",
    "  * In the early pandemic period, subway station foot traffic and Covid cases showed strong correlations with a 4 weeks lag. When the trend of subway foot traffic went up, which could indicate the trend up of Covid cases after about 4 weeks. \n",
    "  * The correlation became negative druing the midterm stage, started from 2020-06.\n",
    "    * The lag became shorter. It could be explained as more advanced Covid test methods were available and it enabled people to test COVID faster;\n",
    "    * Negative correlations indicated the way that people engaging with Covid also changed. While people know more about the virus, they may prefer staying at home to protect themselves. In the meantime, the goverment and health organizations started to take actions to control the spread of Covid, such as locked down the city, produced vaccines etc. \n",
    "  * Although it shows negative correlations between Subway traffic and Covid cases, we still need to pay attention to those stations with high volume of traffic, otherwise as the foot traffic increases another wave of Covid may break out again.\n",
    "  \n",
    "### Next Step:\n",
    "As my analysis objective is to find stations which need more supplies in covid hygiene kits. I'm going to identify the stations with large traffic volume and also show significant increase in foot traffic during the midterm period."
   ]
  },
  {
   "cell_type": "code",
   "execution_count": null,
   "metadata": {},
   "outputs": [],
   "source": []
  },
  {
   "cell_type": "code",
   "execution_count": null,
   "metadata": {},
   "outputs": [],
   "source": []
  }
 ],
 "metadata": {
  "kernelspec": {
   "display_name": "Python 3",
   "language": "python",
   "name": "python3"
  },
  "language_info": {
   "codemirror_mode": {
    "name": "ipython",
    "version": 3
   },
   "file_extension": ".py",
   "mimetype": "text/x-python",
   "name": "python",
   "nbconvert_exporter": "python",
   "pygments_lexer": "ipython3",
   "version": "3.8.5"
  }
 },
 "nbformat": 4,
 "nbformat_minor": 4
}
